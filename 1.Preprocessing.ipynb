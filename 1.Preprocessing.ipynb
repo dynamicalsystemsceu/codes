{
 "cells": [
  {
   "cell_type": "markdown",
   "metadata": {},
   "source": [
    "# Pre-processing"
   ]
  },
  {
   "cell_type": "code",
   "execution_count": 1,
   "metadata": {},
   "outputs": [],
   "source": [
    "from graph_tool.all import *\n",
    "import pickle\n",
    "from functions_reci_bursty import *\n",
    "\n",
    "import numpy as np\n",
    "import pandas as pd\n",
    "import os\n",
    "import sys\n",
    "\n",
    "import collections\n",
    "import csv"
   ]
  },
  {
   "cell_type": "code",
   "execution_count": 2,
   "metadata": {},
   "outputs": [],
   "source": [
    "# a more general path that works for all -sam\n",
    "x_dir=os.getcwd().split('/');\n",
    "x_dir=os.getcwd().replace(x_dir[len(x_dir)-1],'')\n",
    "os.chdir(x_dir+'data/data_raw')\n",
    "\n",
    "# Adri's path\n",
    "# os.chdir('/Users/adriana/Desktop/CEU/_COURSES/Dynamical/FinalProject/data/data_raw')\n",
    "# Elsa's path\n",
    "#os.chdir('/home/utilisateur/Desktop/Courses/Dynamics_on_networks/project/version_2/FinalProject/data/data_raw')"
   ]
  },
  {
   "cell_type": "code",
   "execution_count": 3,
   "metadata": {},
   "outputs": [],
   "source": [
    "# Creating a test network\n",
    "\n",
    "test_df = pd.DataFrame(columns = ['from', 'to', 't_second'])\n",
    "test_df['from']= [1,1,3,2,1,2,4,4]\n",
    "test_df['to']= [3,2,1,3,2,1,1,1]\n",
    "test_df['t_second'] = [0, 2, 3, 5 ,6, 10, 1, 4]"
   ]
  },
  {
   "cell_type": "markdown",
   "metadata": {},
   "source": [
    "## 1- UPLOADING DATA"
   ]
  },
  {
   "cell_type": "markdown",
   "metadata": {},
   "source": [
    "### 1.1-twitter data "
   ]
  },
  {
   "cell_type": "raw",
   "metadata": {},
   "source": [
    "edges = pd.concat([mentions_edges, replay_edges, retweets_edges])\n",
    "edges['created_at'] = pd.to_datetime(edges['created_at'])"
   ]
  },
  {
   "cell_type": "raw",
   "metadata": {},
   "source": [
    "mentions_edges= pd.read_pickle('./mentions_edges.pkl')\n",
    "replay_edges = pd.read_pickle('./reply_edges.pkl')\n",
    "retweets_edges = pd.read_pickle('./retweets_edges.pkl')\n",
    "retweets_edges.columns = ['from_id', 'from', 'to', 'date', 'to_id']\n",
    "\n",
    "# computing differenc form time 0 in terms of second\n",
    "for df_edges_tw in [replay_edges,retweets_edges,mentions_edges]:\n",
    "    df_edges_tw['created_at'] = pd.to_datetime(df_edges_tw['date']) \n",
    "    df_edges_tw['EPOCH'] = pd.to_datetime(df_edges_tw['created_at']).apply(lambda x: x.timestamp())\n",
    "    min_e = min(df_edges_tw.loc[:,'EPOCH'])\n",
    "    df_edges_tw.loc[:,'t_second'] = df_edges_tw.loc[:,'EPOCH'].apply(lambda x: (x-min_e)) \n",
    "\n",
    "\n",
    "# taking columns of interest\n",
    "df_edges_mentions = mentions_edges[['from_id', 'to_id', 't_second']]\n",
    "df_edges_retw= retweets_edges[['from_id', 'to_id', 't_second']]\n",
    "df_edges_reply = replay_edges[['from_id', 'to_id', 't_second']]\n",
    "\n",
    "# saving \n",
    "df_edges_mentions.to_pickle('./df_edges_mentions.pkl')\n",
    "df_edges_retw.to_pickle('./df_edges_retw.pkl')\n",
    "df_edges_reply.to_pickle('./df_edges_reply.pkl')"
   ]
  },
  {
   "cell_type": "code",
   "execution_count": 4,
   "metadata": {},
   "outputs": [],
   "source": [
    "df_edges_mentions= pd.read_pickle('./df_edges_mentions.pkl')\n",
    "df_edges_retw= pd.read_pickle('./df_edges_retw.pkl')\n",
    "df_edges_reply= pd.read_pickle('./df_edges_reply.pkl')\n",
    "\n",
    "df_edges_reply=df_edges_reply.drop_duplicates();\n",
    "df_edges_retw=df_edges_retw.drop_duplicates();\n",
    "df_edges_mentions=df_edges_mentions.drop_duplicates();"
   ]
  },
  {
   "cell_type": "markdown",
   "metadata": {},
   "source": [
    "### 1.2-copenhagen data "
   ]
  },
  {
   "cell_type": "code",
   "execution_count": 5,
   "metadata": {},
   "outputs": [],
   "source": [
    "with open('sms_ijt.pickle', 'rb') as handle:\n",
    "    sms_data = pickle.load(handle)\n",
    "\n",
    "df_edges_sms = pd.DataFrame(sms_data, columns = ['from', 'to', 't_second'])\n",
    "df_edges_sms=df_edges_sms.drop_duplicates();"
   ]
  },
  {
   "cell_type": "code",
   "execution_count": 6,
   "metadata": {},
   "outputs": [
    {
     "name": "stdout",
     "output_type": "stream",
     "text": [
      "counter_no_reply 366\n",
      "counter_event 3600\n",
      "Proportion of calls with no reply 0.102\n"
     ]
    }
   ],
   "source": [
    "# study of the call with no reply\n",
    "\n",
    "counter_no_reply = 0\n",
    "counter_event = 0\n",
    "data = []\n",
    "\n",
    "import csv\n",
    "with open('calls.csv', newline='') as csvfile:\n",
    "    spamreader = csv.reader(csvfile, delimiter=' ', quotechar='|')\n",
    "    for line in list(spamreader)[1:]:\n",
    "        counter_event+=1\n",
    "        if int(line[0].split(',')[-1]) == -1 :\n",
    "            counter_no_reply += 1\n",
    "        else:\n",
    "            L = np.asarray(line[0].split(',')).astype(int)[:-1]\n",
    "            data.append([L[1],L[2],L[0]])\n",
    "            \n",
    "print('counter_no_reply',counter_no_reply)\n",
    "print('counter_event',counter_event)\n",
    "print('Proportion of calls with no reply',round(counter_no_reply/counter_event,3))\n",
    "\n",
    "df_edges_calls = pd.DataFrame(data, columns = ['from', 'to', 't_second'])\n",
    "df_edges_calls=df_edges_calls.drop_duplicates();"
   ]
  },
  {
   "cell_type": "markdown",
   "metadata": {},
   "source": [
    "### 1.3- College data set"
   ]
  },
  {
   "cell_type": "code",
   "execution_count": 7,
   "metadata": {},
   "outputs": [],
   "source": [
    "data=[]\n",
    "with open('CollegeMsg.txt', newline='') as csvfile:\n",
    "    spamreader = csv.reader(csvfile, delimiter=' ', quotechar='|')\n",
    "    for line in list(spamreader)[1:]:\n",
    "        L = np.asarray(line).astype(int)\n",
    "        data.append([L[0],L[1],L[2]])\n",
    "\n",
    "df_edges_col_msg= pd.DataFrame(data, columns = ['from', 'to', 't_second'])\n",
    "df_edges_col_msg=df_edges_col_msg.drop_duplicates();\n",
    "\n",
    "data=[]\n",
    "with open('email-Eu-core-temporal.txt', newline='') as csvfile:\n",
    "    spamreader = csv.reader(csvfile, delimiter=' ', quotechar='|')\n",
    "    for line in list(spamreader)[1:]:\n",
    "        L = np.asarray(line).astype(int)\n",
    "        data.append([L[0],L[1],L[2]])\n",
    "\n",
    "df_edges_col_email= pd.DataFrame(data, columns = ['from', 'to', 't_second'])\n",
    "df_edges_col_email=df_edges_col_email.drop_duplicates();"
   ]
  },
  {
   "cell_type": "markdown",
   "metadata": {},
   "source": [
    "### 1.4- Add different columns according to aggregated time (second/minutes/hours/days)"
   ]
  },
  {
   "cell_type": "code",
   "execution_count": 8,
   "metadata": {},
   "outputs": [],
   "source": [
    "\n",
    "df_edges_mentions =make_time_col(df_edges_mentions,'t_second')\n",
    "df_edges_retw =make_time_col(df_edges_retw,'t_second')\n",
    "df_edges_reply =make_time_col(df_edges_reply,'t_second')\n",
    "\n",
    "df_edges_sms =make_time_col(df_edges_sms,'t_second')\n",
    "df_edges_calls =make_time_col(df_edges_calls,'t_second')\n",
    "\n",
    "df_edges_col_msg =make_time_col(df_edges_col_msg,'t_second')\n",
    "df_edges_col_email =make_time_col(df_edges_col_email,'t_second')"
   ]
  },
  {
   "cell_type": "code",
   "execution_count": 9,
   "metadata": {},
   "outputs": [
    {
     "data": {
      "text/html": [
       "<div>\n",
       "<style scoped>\n",
       "    .dataframe tbody tr th:only-of-type {\n",
       "        vertical-align: middle;\n",
       "    }\n",
       "\n",
       "    .dataframe tbody tr th {\n",
       "        vertical-align: top;\n",
       "    }\n",
       "\n",
       "    .dataframe thead th {\n",
       "        text-align: right;\n",
       "    }\n",
       "</style>\n",
       "<table border=\"1\" class=\"dataframe\">\n",
       "  <thead>\n",
       "    <tr style=\"text-align: right;\">\n",
       "      <th></th>\n",
       "      <th>from</th>\n",
       "      <th>to</th>\n",
       "      <th>t_second</th>\n",
       "      <th>t_minutes</th>\n",
       "      <th>t_hours</th>\n",
       "      <th>t_days</th>\n",
       "      <th>t_1day</th>\n",
       "      <th>t_1week</th>\n",
       "      <th>t_1month</th>\n",
       "      <th>t_2day</th>\n",
       "      <th>t_2week</th>\n",
       "      <th>t_2month</th>\n",
       "      <th>t_5day</th>\n",
       "      <th>t_5week</th>\n",
       "      <th>t_5month</th>\n",
       "      <th>t_10day</th>\n",
       "      <th>t_10week</th>\n",
       "      <th>t_10month</th>\n",
       "    </tr>\n",
       "  </thead>\n",
       "  <tbody>\n",
       "    <tr>\n",
       "      <th>0</th>\n",
       "      <td>1</td>\n",
       "      <td>3</td>\n",
       "      <td>0</td>\n",
       "      <td>0</td>\n",
       "      <td>0</td>\n",
       "      <td>0</td>\n",
       "      <td>0</td>\n",
       "      <td>0</td>\n",
       "      <td>0</td>\n",
       "      <td>0</td>\n",
       "      <td>0</td>\n",
       "      <td>0</td>\n",
       "      <td>0</td>\n",
       "      <td>0</td>\n",
       "      <td>0</td>\n",
       "      <td>0</td>\n",
       "      <td>0</td>\n",
       "      <td>0</td>\n",
       "    </tr>\n",
       "    <tr>\n",
       "      <th>1</th>\n",
       "      <td>1</td>\n",
       "      <td>2</td>\n",
       "      <td>2</td>\n",
       "      <td>0</td>\n",
       "      <td>0</td>\n",
       "      <td>0</td>\n",
       "      <td>0</td>\n",
       "      <td>0</td>\n",
       "      <td>0</td>\n",
       "      <td>0</td>\n",
       "      <td>0</td>\n",
       "      <td>0</td>\n",
       "      <td>0</td>\n",
       "      <td>0</td>\n",
       "      <td>0</td>\n",
       "      <td>0</td>\n",
       "      <td>0</td>\n",
       "      <td>0</td>\n",
       "    </tr>\n",
       "  </tbody>\n",
       "</table>\n",
       "</div>"
      ],
      "text/plain": [
       "   from  to  t_second  t_minutes  t_hours  t_days  t_1day  t_1week  t_1month  \\\n",
       "0     1   3         0          0        0       0       0        0         0   \n",
       "1     1   2         2          0        0       0       0        0         0   \n",
       "\n",
       "   t_2day  t_2week  t_2month  t_5day  t_5week  t_5month  t_10day  t_10week  \\\n",
       "0       0        0         0       0        0         0        0         0   \n",
       "1       0        0         0       0        0         0        0         0   \n",
       "\n",
       "   t_10month  \n",
       "0          0  \n",
       "1          0  "
      ]
     },
     "execution_count": 9,
     "metadata": {},
     "output_type": "execute_result"
    }
   ],
   "source": [
    "df_edges_test = make_time_col(test_df,'t_second')\n",
    "df_edges_test.head(2)"
   ]
  },
  {
   "cell_type": "code",
   "execution_count": 10,
   "metadata": {},
   "outputs": [],
   "source": [
    "# list of all data sets\n",
    "list_datasets = [df_edges_calls,df_edges_sms,df_edges_mentions,df_edges_retw,df_edges_reply,df_edges_col_msg,\n",
    "                 df_edges_col_email]"
   ]
  },
  {
   "cell_type": "markdown",
   "metadata": {},
   "source": [
    "## 2- BUILING GRAPH"
   ]
  },
  {
   "cell_type": "code",
   "execution_count": null,
   "metadata": {},
   "outputs": [],
   "source": []
  },
  {
   "cell_type": "markdown",
   "metadata": {},
   "source": [
    "## 3 - SAVING NETWORKS"
   ]
  },
  {
   "cell_type": "code",
   "execution_count": 11,
   "metadata": {},
   "outputs": [
    {
     "data": {
      "image/png": "[encoded data removed]",
      "text/plain": [
       "<IPython.core.display.Image object>"
      ]
     },
     "metadata": {
      "image/png": {
       "height": 160,
       "width": 200
      }
     },
     "output_type": "display_data"
    },
    {
     "data": {
      "image/png": "[encoded data removed]",
      "text/plain": [
       "<IPython.core.display.Image object>"
      ]
     },
     "metadata": {
      "image/png": {
       "height": 200,
       "width": 107
      }
     },
     "output_type": "display_data"
    },
    {
     "data": {
      "text/plain": [
       "<VertexPropertyMap object with value type 'vector<double>', for Graph 0x7feab4ded2e0, at 0x7feacd8c0640>"
      ]
     },
     "execution_count": 11,
     "metadata": {},
     "output_type": "execute_result"
    }
   ],
   "source": [
    "#test\n",
    "g_test,g_D_test = to_graph(df_edges_test,'from','to','t_second','t_minutes','t_hours','t_days')\n",
    "\n",
    "# Plot \n",
    "graph_draw(g_D_test, vertex_text= g_D_test.vertex_index, edge_text= g_D_test.ep.ts_sec, output_size = (200, 200))\n",
    "# Plot \n",
    "graph_draw(g_test, vertex_text= g_test.vertex_index,  output_size = (200, 200))"
   ]
  },
  {
   "cell_type": "code",
   "execution_count": 12,
   "metadata": {},
   "outputs": [],
   "source": [
    "#dict(g_D_test.edge_properties).keys()"
   ]
  },
  {
   "cell_type": "code",
   "execution_count": 13,
   "metadata": {},
   "outputs": [],
   "source": [
    "# sociopatterns\n",
    "g_calls,g_D_calls = to_graph(df_edges_calls,'from','to','t_second','t_minutes','t_hours','t_days')\n",
    "g_sms,g_D_sms = to_graph(df_edges_sms,'from','to','t_second','t_minutes','t_hours','t_days')\n",
    "\n",
    "# college\n",
    "g_col_msg, g_D_col_msg = to_graph(df_edges_col_msg,'from','to','t_second','t_minutes','t_hours','t_days')\n",
    "g_col_email, g_D_col_email = to_graph(df_edges_col_email,'from','to','t_second','t_minutes','t_hours','t_days')\n",
    "\n",
    "\n",
    "# tweeter networks\n",
    "g_men,g_D_men = to_graph(df_edges_mentions,'from_id','to_id','t_second','t_minutes','t_hours','t_days')\n",
    "g_rt,g_D_rt = to_graph(df_edges_retw,'from_id','to_id','t_second','t_minutes','t_hours','t_days')\n",
    "g_re,g_D_re = to_graph(df_edges_reply,'from_id','to_id','t_second','t_minutes','t_hours','t_days')"
   ]
  },
  {
   "cell_type": "code",
   "execution_count": null,
   "metadata": {},
   "outputs": [],
   "source": []
  },
  {
   "cell_type": "code",
   "execution_count": 14,
   "metadata": {},
   "outputs": [],
   "source": [
    "#dict(g_D_men.edge_properties).keys()"
   ]
  },
  {
   "cell_type": "code",
   "execution_count": 16,
   "metadata": {},
   "outputs": [],
   "source": [
    "\n",
    "os.chdir(x_dir+'data/graphs_raw')\n",
    "\n",
    "\n",
    "# ADRI\n",
    "# os.chdir('/Users/adriana/Desktop/CEU/_COURSES/Dynamical/FinalProject/data/graphs_raw')\n",
    "\n",
    "# ELSA \n",
    "#os.chdir('/home/utilisateur/Desktop/Courses/Dynamics_on_networks/project/version_2/FinalProject/data/graphs_raw')"
   ]
  },
  {
   "cell_type": "raw",
   "metadata": {},
   "source": [
    "names = ['test']\n",
    "G_D =   [g_D_test]\n",
    "G =     [g_test]"
   ]
  },
  {
   "cell_type": "code",
   "execution_count": 18,
   "metadata": {},
   "outputs": [
    {
     "name": "stdout",
     "output_type": "stream",
     "text": [
      "saving calls\n",
      "saving sms\n",
      "saving mentions\n",
      "saving retweets\n",
      "saving reply\n",
      "saving msg\n",
      "saving email\n"
     ]
    }
   ],
   "source": [
    "names = ['calls', 'sms', 'mentions','retweets', 'reply','msg','email']\n",
    "G_D =   [g_D_calls, g_D_sms ,g_D_men,  g_D_rt, g_D_re,g_D_col_msg,g_D_col_email]\n",
    "G =     [g_calls,  g_sms , g_men, g_rt, g_re,g_col_msg,g_col_email]\n",
    "\n",
    "for i in range(len(names)):\n",
    "    name = names[i]\n",
    "    print('saving '+name)\n",
    "    \n",
    "    g_D = G_D[i]\n",
    "    g_D.save(x_dir+'data/graphs_raw/'+name+\"_g_d.xml.gz\")\n",
    "    \n",
    "    g = G[i]\n",
    "    g.save(x_dir+'data/graphs_raw/'+name+\"_g.xml.gz\")"
   ]
  },
  {
   "cell_type": "code",
   "execution_count": null,
   "metadata": {},
   "outputs": [],
   "source": []
  },
  {
   "cell_type": "code",
   "execution_count": null,
   "metadata": {},
   "outputs": [],
   "source": []
  },
  {
   "cell_type": "code",
   "execution_count": null,
   "metadata": {},
   "outputs": [],
   "source": []
  }
 ],
 "metadata": {
  "kernelspec": {
   "display_name": "Python 3",
   "language": "python",
   "name": "python3"
  },
  "language_info": {
   "codemirror_mode": {
    "name": "ipython",
    "version": 3
   },
   "file_extension": ".py",
   "mimetype": "text/x-python",
   "name": "python",
   "nbconvert_exporter": "python",
   "pygments_lexer": "ipython3",
   "version": "3.9.2"
  }
 },
 "nbformat": 4,
 "nbformat_minor": 4
}
