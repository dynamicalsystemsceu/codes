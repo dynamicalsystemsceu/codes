{
 "cells": [
  {
   "cell_type": "code",
   "execution_count": null,
   "id": "8978fb6e-1798-4631-b1f3-5704fddfcf7a",
   "metadata": {},
   "outputs": [],
   "source": []
  },
  {
   "cell_type": "code",
   "execution_count": 1,
   "id": "58d90f4c-39cd-4107-a576-eb31aa17202c",
   "metadata": {},
   "outputs": [],
   "source": [
    "from graph_tool.all import *\n",
    "import pickle\n",
    "import matplotlib\n",
    "import random\n",
    "\n",
    "import numpy as np\n",
    "import matplotlib.pyplot as plt\n",
    "import pandas as pd\n",
    "import os\n",
    "import sys\n",
    "import matplotlib.pyplot as plt\n",
    "import random\n",
    "import math\n",
    "import collections\n",
    "import csv\n",
    "import timeit\n",
    "\n",
    "def toc(start_time):\n",
    "    elapsed = timeit.default_timer() - start_time\n",
    "    print(elapsed)\n",
    "start_time = timeit.default_timer()\n",
    "\n",
    "#%matplotlib inline\n",
    "%config InlineBackend.figure_format = 'svg'\n",
    "plt.rcParams.update({'font.size': 8, 'font.style': 'normal', 'font.family':'serif'})\n",
    "#matplotlib.rcParams.update({'font.size': 18})\n",
    "\n",
    "from functions_reci_bursty import *\n",
    "from statistics import *\n",
    "\n",
    "from AD_model_power_law import *\n",
    "\n",
    "from multiprocessing import Process\n",
    "from joblib import Parallel, delayed\n",
    "\n",
    "\n",
    "path_code='/mnt/sdb1/sandeep/1.Reciprocity/code/'\n",
    "path_data='/mnt/sdb1/sandeep/1.Reciprocity/data/'\n",
    "path_results='/mnt/sdb1/sandeep/1.Reciprocity/res/'"
   ]
  },
  {
   "cell_type": "code",
   "execution_count": 2,
   "id": "7c2d6389-bf10-4b66-aca6-fd8a310672e9",
   "metadata": {},
   "outputs": [],
   "source": [
    "ANTI_=0\n",
    "def parallel_call_to_powerlaw_ADA(arg):\n",
    "    \n",
    "\n",
    "    N=500      # number of nodes in the empirical network \n",
    "    epsi=10**-3 # minimum allowed node activity\n",
    "    E=5000;\n",
    "\n",
    "    l_rec_vs_Gamma=[];E_rec_vs_Gamma=[];B_nodes_vs_Gamma=[];B_edges_vs_Gamma=[];\n",
    "\n",
    "    storeGamma=np.linspace(-4,-2,21)\n",
    "    #[-2,-2.2,-2.4,-2.6,-2.8,-3,-3.2,-3.4,-3.6,-3.8,-4];\n",
    "\n",
    "    num_trials=1;\n",
    "\n",
    "    for Gamma in storeGamma:\n",
    "        g=Gamma+1\n",
    "        print('Gamma=',Gamma,)\n",
    "\n",
    "        temp_l_rec=[];temp_E_rec=[];temp_B_nodes=[];temp_B_edges=[];\n",
    "        for trials in range(num_trials):\n",
    "\n",
    "\n",
    "\n",
    "            # number of edges in the empirical network\n",
    "            # CALL TO ACVITY DRIVEN MODEL, RETURN TIME ORDERED EDGELIST\n",
    "            \n",
    "            if ANTI_==0:\n",
    "                elist,num_edges=create_AD_power_law_elist(N,E,epsi,g)\n",
    "            else:\n",
    "                elist,num_edges=create_ADAM_power_law_elist_anticorrelated(N,E,epsi,g)\n",
    "\n",
    "            if Gamma==-1:\n",
    "                elist_temp_gamma_minus1=elist\n",
    "\n",
    "            Y=measures(pd.DataFrame(elist),'ADA MODEL');\n",
    "            del elist\n",
    "            temp_l_rec.append(Y.iloc[0,0])\n",
    "            temp_E_rec.append(Y.iloc[0,1])\n",
    "            temp_B_nodes.append(Y.iloc[0,2])\n",
    "            temp_B_edges.append(Y.iloc[0,3])\n",
    "    #         print('\\n')\n",
    "\n",
    "        l_rec_vs_Gamma.append(mean(temp_l_rec))\n",
    "        E_rec_vs_Gamma.append(mean(temp_E_rec))\n",
    "        B_nodes_vs_Gamma.append(mean(temp_B_nodes))\n",
    "        B_edges_vs_Gamma.append(mean(temp_B_edges))\n",
    "#         print(end='\\r')\n",
    "    print('\\n')\n",
    "    return l_rec_vs_Gamma,E_rec_vs_Gamma,B_nodes_vs_Gamma,B_edges_vs_Gamma\n",
    "\n"
   ]
  },
  {
   "cell_type": "code",
   "execution_count": null,
   "id": "af18aafa-85b5-4117-83b1-102c5c2a54f5",
   "metadata": {},
   "outputs": [],
   "source": []
  },
  {
   "cell_type": "code",
   "execution_count": 3,
   "id": "43c040fa-e0aa-4302-9ca8-6c147b6148c2",
   "metadata": {},
   "outputs": [
    {
     "name": "stderr",
     "output_type": "stream",
     "text": [
      "[Parallel(n_jobs=20)]: Using backend ThreadingBackend with 20 concurrent workers.\n"
     ]
    },
    {
     "name": "stdout",
     "output_type": "stream",
     "text": [
      "Gamma= -4.0\n",
      "Gamma= -4.0\n",
      "Gamma= -4.0\n",
      "Gamma= -4.0\n",
      "Gamma= -4.0\n"
     ]
    },
    {
     "ename": "AttributeError",
     "evalue": "'list' object has no attribute 'drop_duplicates'",
     "output_type": "error",
     "traceback": [
      "\u001b[0;31m---------------------------------------------------------------------------\u001b[0m",
      "\u001b[0;31mAttributeError\u001b[0m                            Traceback (most recent call last)",
      "\u001b[0;32m<ipython-input-3-e06c2c19c792>\u001b[0m in \u001b[0;36m<module>\u001b[0;34m\u001b[0m\n\u001b[1;32m      3\u001b[0m \u001b[0mactual_num_trials\u001b[0m\u001b[0;34m=\u001b[0m\u001b[0;36m5\u001b[0m\u001b[0;34m\u001b[0m\u001b[0;34m\u001b[0m\u001b[0m\n\u001b[1;32m      4\u001b[0m \u001b[0marg_instances\u001b[0m\u001b[0;34m=\u001b[0m\u001b[0mlist\u001b[0m\u001b[0;34m(\u001b[0m\u001b[0mnp\u001b[0m\u001b[0;34m.\u001b[0m\u001b[0marange\u001b[0m\u001b[0;34m(\u001b[0m\u001b[0;36m0\u001b[0m\u001b[0;34m,\u001b[0m\u001b[0mactual_num_trials\u001b[0m\u001b[0;34m,\u001b[0m\u001b[0;36m1\u001b[0m\u001b[0;34m)\u001b[0m\u001b[0;34m)\u001b[0m\u001b[0;34m\u001b[0m\u001b[0;34m\u001b[0m\u001b[0m\n\u001b[0;32m----> 5\u001b[0;31m results = Parallel(n_jobs=20,verbose=11,backend=\"threading\")(\n\u001b[0m\u001b[1;32m      6\u001b[0m              map(delayed(parallel_call_to_powerlaw_ADA), arg_instances))\n",
      "\u001b[0;32m~/miniconda3/envs/sos/lib/python3.9/site-packages/joblib/parallel.py\u001b[0m in \u001b[0;36m__call__\u001b[0;34m(self, iterable)\u001b[0m\n\u001b[1;32m   1052\u001b[0m \u001b[0;34m\u001b[0m\u001b[0m\n\u001b[1;32m   1053\u001b[0m             \u001b[0;32mwith\u001b[0m \u001b[0mself\u001b[0m\u001b[0;34m.\u001b[0m\u001b[0m_backend\u001b[0m\u001b[0;34m.\u001b[0m\u001b[0mretrieval_context\u001b[0m\u001b[0;34m(\u001b[0m\u001b[0;34m)\u001b[0m\u001b[0;34m:\u001b[0m\u001b[0;34m\u001b[0m\u001b[0;34m\u001b[0m\u001b[0m\n\u001b[0;32m-> 1054\u001b[0;31m                 \u001b[0mself\u001b[0m\u001b[0;34m.\u001b[0m\u001b[0mretrieve\u001b[0m\u001b[0;34m(\u001b[0m\u001b[0;34m)\u001b[0m\u001b[0;34m\u001b[0m\u001b[0;34m\u001b[0m\u001b[0m\n\u001b[0m\u001b[1;32m   1055\u001b[0m             \u001b[0;31m# Make sure that we get a last message telling us we are done\u001b[0m\u001b[0;34m\u001b[0m\u001b[0;34m\u001b[0m\u001b[0;34m\u001b[0m\u001b[0m\n\u001b[1;32m   1056\u001b[0m             \u001b[0melapsed_time\u001b[0m \u001b[0;34m=\u001b[0m \u001b[0mtime\u001b[0m\u001b[0;34m.\u001b[0m\u001b[0mtime\u001b[0m\u001b[0;34m(\u001b[0m\u001b[0;34m)\u001b[0m \u001b[0;34m-\u001b[0m \u001b[0mself\u001b[0m\u001b[0;34m.\u001b[0m\u001b[0m_start_time\u001b[0m\u001b[0;34m\u001b[0m\u001b[0;34m\u001b[0m\u001b[0m\n",
      "\u001b[0;32m~/miniconda3/envs/sos/lib/python3.9/site-packages/joblib/parallel.py\u001b[0m in \u001b[0;36mretrieve\u001b[0;34m(self)\u001b[0m\n\u001b[1;32m    931\u001b[0m             \u001b[0;32mtry\u001b[0m\u001b[0;34m:\u001b[0m\u001b[0;34m\u001b[0m\u001b[0;34m\u001b[0m\u001b[0m\n\u001b[1;32m    932\u001b[0m                 \u001b[0;32mif\u001b[0m \u001b[0mgetattr\u001b[0m\u001b[0;34m(\u001b[0m\u001b[0mself\u001b[0m\u001b[0;34m.\u001b[0m\u001b[0m_backend\u001b[0m\u001b[0;34m,\u001b[0m \u001b[0;34m'supports_timeout'\u001b[0m\u001b[0;34m,\u001b[0m \u001b[0;32mFalse\u001b[0m\u001b[0;34m)\u001b[0m\u001b[0;34m:\u001b[0m\u001b[0;34m\u001b[0m\u001b[0;34m\u001b[0m\u001b[0m\n\u001b[0;32m--> 933\u001b[0;31m                     \u001b[0mself\u001b[0m\u001b[0;34m.\u001b[0m\u001b[0m_output\u001b[0m\u001b[0;34m.\u001b[0m\u001b[0mextend\u001b[0m\u001b[0;34m(\u001b[0m\u001b[0mjob\u001b[0m\u001b[0;34m.\u001b[0m\u001b[0mget\u001b[0m\u001b[0;34m(\u001b[0m\u001b[0mtimeout\u001b[0m\u001b[0;34m=\u001b[0m\u001b[0mself\u001b[0m\u001b[0;34m.\u001b[0m\u001b[0mtimeout\u001b[0m\u001b[0;34m)\u001b[0m\u001b[0;34m)\u001b[0m\u001b[0;34m\u001b[0m\u001b[0;34m\u001b[0m\u001b[0m\n\u001b[0m\u001b[1;32m    934\u001b[0m                 \u001b[0;32melse\u001b[0m\u001b[0;34m:\u001b[0m\u001b[0;34m\u001b[0m\u001b[0;34m\u001b[0m\u001b[0m\n\u001b[1;32m    935\u001b[0m                     \u001b[0mself\u001b[0m\u001b[0;34m.\u001b[0m\u001b[0m_output\u001b[0m\u001b[0;34m.\u001b[0m\u001b[0mextend\u001b[0m\u001b[0;34m(\u001b[0m\u001b[0mjob\u001b[0m\u001b[0;34m.\u001b[0m\u001b[0mget\u001b[0m\u001b[0;34m(\u001b[0m\u001b[0;34m)\u001b[0m\u001b[0;34m)\u001b[0m\u001b[0;34m\u001b[0m\u001b[0;34m\u001b[0m\u001b[0m\n",
      "\u001b[0;32m~/miniconda3/envs/sos/lib/python3.9/multiprocessing/pool.py\u001b[0m in \u001b[0;36mget\u001b[0;34m(self, timeout)\u001b[0m\n\u001b[1;32m    769\u001b[0m             \u001b[0;32mreturn\u001b[0m \u001b[0mself\u001b[0m\u001b[0;34m.\u001b[0m\u001b[0m_value\u001b[0m\u001b[0;34m\u001b[0m\u001b[0;34m\u001b[0m\u001b[0m\n\u001b[1;32m    770\u001b[0m         \u001b[0;32melse\u001b[0m\u001b[0;34m:\u001b[0m\u001b[0;34m\u001b[0m\u001b[0;34m\u001b[0m\u001b[0m\n\u001b[0;32m--> 771\u001b[0;31m             \u001b[0;32mraise\u001b[0m \u001b[0mself\u001b[0m\u001b[0;34m.\u001b[0m\u001b[0m_value\u001b[0m\u001b[0;34m\u001b[0m\u001b[0;34m\u001b[0m\u001b[0m\n\u001b[0m\u001b[1;32m    772\u001b[0m \u001b[0;34m\u001b[0m\u001b[0m\n\u001b[1;32m    773\u001b[0m     \u001b[0;32mdef\u001b[0m \u001b[0m_set\u001b[0m\u001b[0;34m(\u001b[0m\u001b[0mself\u001b[0m\u001b[0;34m,\u001b[0m \u001b[0mi\u001b[0m\u001b[0;34m,\u001b[0m \u001b[0mobj\u001b[0m\u001b[0;34m)\u001b[0m\u001b[0;34m:\u001b[0m\u001b[0;34m\u001b[0m\u001b[0;34m\u001b[0m\u001b[0m\n",
      "\u001b[0;32m~/miniconda3/envs/sos/lib/python3.9/multiprocessing/pool.py\u001b[0m in \u001b[0;36mworker\u001b[0;34m(inqueue, outqueue, initializer, initargs, maxtasks, wrap_exception)\u001b[0m\n\u001b[1;32m    123\u001b[0m         \u001b[0mjob\u001b[0m\u001b[0;34m,\u001b[0m \u001b[0mi\u001b[0m\u001b[0;34m,\u001b[0m \u001b[0mfunc\u001b[0m\u001b[0;34m,\u001b[0m \u001b[0margs\u001b[0m\u001b[0;34m,\u001b[0m \u001b[0mkwds\u001b[0m \u001b[0;34m=\u001b[0m \u001b[0mtask\u001b[0m\u001b[0;34m\u001b[0m\u001b[0;34m\u001b[0m\u001b[0m\n\u001b[1;32m    124\u001b[0m         \u001b[0;32mtry\u001b[0m\u001b[0;34m:\u001b[0m\u001b[0;34m\u001b[0m\u001b[0;34m\u001b[0m\u001b[0m\n\u001b[0;32m--> 125\u001b[0;31m             \u001b[0mresult\u001b[0m \u001b[0;34m=\u001b[0m \u001b[0;34m(\u001b[0m\u001b[0;32mTrue\u001b[0m\u001b[0;34m,\u001b[0m \u001b[0mfunc\u001b[0m\u001b[0;34m(\u001b[0m\u001b[0;34m*\u001b[0m\u001b[0margs\u001b[0m\u001b[0;34m,\u001b[0m \u001b[0;34m**\u001b[0m\u001b[0mkwds\u001b[0m\u001b[0;34m)\u001b[0m\u001b[0;34m)\u001b[0m\u001b[0;34m\u001b[0m\u001b[0;34m\u001b[0m\u001b[0m\n\u001b[0m\u001b[1;32m    126\u001b[0m         \u001b[0;32mexcept\u001b[0m \u001b[0mException\u001b[0m \u001b[0;32mas\u001b[0m \u001b[0me\u001b[0m\u001b[0;34m:\u001b[0m\u001b[0;34m\u001b[0m\u001b[0;34m\u001b[0m\u001b[0m\n\u001b[1;32m    127\u001b[0m             \u001b[0;32mif\u001b[0m \u001b[0mwrap_exception\u001b[0m \u001b[0;32mand\u001b[0m \u001b[0mfunc\u001b[0m \u001b[0;32mis\u001b[0m \u001b[0;32mnot\u001b[0m \u001b[0m_helper_reraises_exception\u001b[0m\u001b[0;34m:\u001b[0m\u001b[0;34m\u001b[0m\u001b[0;34m\u001b[0m\u001b[0m\n",
      "\u001b[0;32m~/miniconda3/envs/sos/lib/python3.9/site-packages/joblib/_parallel_backends.py\u001b[0m in \u001b[0;36m__call__\u001b[0;34m(self, *args, **kwargs)\u001b[0m\n\u001b[1;32m    593\u001b[0m     \u001b[0;32mdef\u001b[0m \u001b[0m__call__\u001b[0m\u001b[0;34m(\u001b[0m\u001b[0mself\u001b[0m\u001b[0;34m,\u001b[0m \u001b[0;34m*\u001b[0m\u001b[0margs\u001b[0m\u001b[0;34m,\u001b[0m \u001b[0;34m**\u001b[0m\u001b[0mkwargs\u001b[0m\u001b[0;34m)\u001b[0m\u001b[0;34m:\u001b[0m\u001b[0;34m\u001b[0m\u001b[0;34m\u001b[0m\u001b[0m\n\u001b[1;32m    594\u001b[0m         \u001b[0;32mtry\u001b[0m\u001b[0;34m:\u001b[0m\u001b[0;34m\u001b[0m\u001b[0;34m\u001b[0m\u001b[0m\n\u001b[0;32m--> 595\u001b[0;31m             \u001b[0;32mreturn\u001b[0m \u001b[0mself\u001b[0m\u001b[0;34m.\u001b[0m\u001b[0mfunc\u001b[0m\u001b[0;34m(\u001b[0m\u001b[0;34m*\u001b[0m\u001b[0margs\u001b[0m\u001b[0;34m,\u001b[0m \u001b[0;34m**\u001b[0m\u001b[0mkwargs\u001b[0m\u001b[0;34m)\u001b[0m\u001b[0;34m\u001b[0m\u001b[0;34m\u001b[0m\u001b[0m\n\u001b[0m\u001b[1;32m    596\u001b[0m         \u001b[0;32mexcept\u001b[0m \u001b[0mKeyboardInterrupt\u001b[0m \u001b[0;32mas\u001b[0m \u001b[0me\u001b[0m\u001b[0;34m:\u001b[0m\u001b[0;34m\u001b[0m\u001b[0;34m\u001b[0m\u001b[0m\n\u001b[1;32m    597\u001b[0m             \u001b[0;31m# We capture the KeyboardInterrupt and reraise it as\u001b[0m\u001b[0;34m\u001b[0m\u001b[0;34m\u001b[0m\u001b[0;34m\u001b[0m\u001b[0m\n",
      "\u001b[0;32m~/miniconda3/envs/sos/lib/python3.9/site-packages/joblib/parallel.py\u001b[0m in \u001b[0;36m__call__\u001b[0;34m(self)\u001b[0m\n\u001b[1;32m    260\u001b[0m         \u001b[0;31m# change the default number of processes to -1\u001b[0m\u001b[0;34m\u001b[0m\u001b[0;34m\u001b[0m\u001b[0;34m\u001b[0m\u001b[0m\n\u001b[1;32m    261\u001b[0m         \u001b[0;32mwith\u001b[0m \u001b[0mparallel_backend\u001b[0m\u001b[0;34m(\u001b[0m\u001b[0mself\u001b[0m\u001b[0;34m.\u001b[0m\u001b[0m_backend\u001b[0m\u001b[0;34m,\u001b[0m \u001b[0mn_jobs\u001b[0m\u001b[0;34m=\u001b[0m\u001b[0mself\u001b[0m\u001b[0;34m.\u001b[0m\u001b[0m_n_jobs\u001b[0m\u001b[0;34m)\u001b[0m\u001b[0;34m:\u001b[0m\u001b[0;34m\u001b[0m\u001b[0;34m\u001b[0m\u001b[0m\n\u001b[0;32m--> 262\u001b[0;31m             return [func(*args, **kwargs)\n\u001b[0m\u001b[1;32m    263\u001b[0m                     for func, args, kwargs in self.items]\n\u001b[1;32m    264\u001b[0m \u001b[0;34m\u001b[0m\u001b[0m\n",
      "\u001b[0;32m~/miniconda3/envs/sos/lib/python3.9/site-packages/joblib/parallel.py\u001b[0m in \u001b[0;36m<listcomp>\u001b[0;34m(.0)\u001b[0m\n\u001b[1;32m    260\u001b[0m         \u001b[0;31m# change the default number of processes to -1\u001b[0m\u001b[0;34m\u001b[0m\u001b[0;34m\u001b[0m\u001b[0;34m\u001b[0m\u001b[0m\n\u001b[1;32m    261\u001b[0m         \u001b[0;32mwith\u001b[0m \u001b[0mparallel_backend\u001b[0m\u001b[0;34m(\u001b[0m\u001b[0mself\u001b[0m\u001b[0;34m.\u001b[0m\u001b[0m_backend\u001b[0m\u001b[0;34m,\u001b[0m \u001b[0mn_jobs\u001b[0m\u001b[0;34m=\u001b[0m\u001b[0mself\u001b[0m\u001b[0;34m.\u001b[0m\u001b[0m_n_jobs\u001b[0m\u001b[0;34m)\u001b[0m\u001b[0;34m:\u001b[0m\u001b[0;34m\u001b[0m\u001b[0;34m\u001b[0m\u001b[0m\n\u001b[0;32m--> 262\u001b[0;31m             return [func(*args, **kwargs)\n\u001b[0m\u001b[1;32m    263\u001b[0m                     for func, args, kwargs in self.items]\n\u001b[1;32m    264\u001b[0m \u001b[0;34m\u001b[0m\u001b[0m\n",
      "\u001b[0;32m<ipython-input-2-aa4ce2407e49>\u001b[0m in \u001b[0;36mparallel_call_to_powerlaw_ADA\u001b[0;34m(arg)\u001b[0m\n\u001b[1;32m     34\u001b[0m                 \u001b[0melist_temp_gamma_minus1\u001b[0m\u001b[0;34m=\u001b[0m\u001b[0melist\u001b[0m\u001b[0;34m\u001b[0m\u001b[0;34m\u001b[0m\u001b[0m\n\u001b[1;32m     35\u001b[0m \u001b[0;34m\u001b[0m\u001b[0m\n\u001b[0;32m---> 36\u001b[0;31m             \u001b[0mY\u001b[0m\u001b[0;34m=\u001b[0m\u001b[0mmeasures\u001b[0m\u001b[0;34m(\u001b[0m\u001b[0melist\u001b[0m\u001b[0;34m,\u001b[0m\u001b[0;34m'ADA MODEL'\u001b[0m\u001b[0;34m)\u001b[0m\u001b[0;34m;\u001b[0m\u001b[0;34m\u001b[0m\u001b[0;34m\u001b[0m\u001b[0m\n\u001b[0m\u001b[1;32m     37\u001b[0m             \u001b[0;32mdel\u001b[0m \u001b[0melist\u001b[0m\u001b[0;34m\u001b[0m\u001b[0;34m\u001b[0m\u001b[0m\n\u001b[1;32m     38\u001b[0m             \u001b[0mtemp_l_rec\u001b[0m\u001b[0;34m.\u001b[0m\u001b[0mappend\u001b[0m\u001b[0;34m(\u001b[0m\u001b[0mY\u001b[0m\u001b[0;34m.\u001b[0m\u001b[0miloc\u001b[0m\u001b[0;34m[\u001b[0m\u001b[0;36m0\u001b[0m\u001b[0;34m,\u001b[0m\u001b[0;36m0\u001b[0m\u001b[0;34m]\u001b[0m\u001b[0;34m)\u001b[0m\u001b[0;34m\u001b[0m\u001b[0;34m\u001b[0m\u001b[0m\n",
      "\u001b[0;32m~/1.Reciprocity/codes/functions_reci_bursty.py\u001b[0m in \u001b[0;36mmeasures\u001b[0;34m(df_edges, XX)\u001b[0m\n\u001b[1;32m    412\u001b[0m \u001b[0;32mdef\u001b[0m \u001b[0mmeasures\u001b[0m\u001b[0;34m(\u001b[0m\u001b[0mdf_edges\u001b[0m\u001b[0;34m,\u001b[0m\u001b[0mXX\u001b[0m\u001b[0;34m)\u001b[0m\u001b[0;34m:\u001b[0m\u001b[0;34m\u001b[0m\u001b[0;34m\u001b[0m\u001b[0m\n\u001b[1;32m    413\u001b[0m \u001b[0;34m\u001b[0m\u001b[0m\n\u001b[0;32m--> 414\u001b[0;31m     \u001b[0mdf_edges\u001b[0m\u001b[0;34m.\u001b[0m\u001b[0mdrop_duplicates\u001b[0m\u001b[0;34m(\u001b[0m\u001b[0minplace\u001b[0m\u001b[0;34m=\u001b[0m\u001b[0;32mTrue\u001b[0m\u001b[0;34m)\u001b[0m\u001b[0;34m\u001b[0m\u001b[0;34m\u001b[0m\u001b[0m\n\u001b[0m\u001b[1;32m    415\u001b[0m \u001b[0;34m\u001b[0m\u001b[0m\n\u001b[1;32m    416\u001b[0m     \u001b[0mg\u001b[0m\u001b[0;34m,\u001b[0m\u001b[0mg_D\u001b[0m \u001b[0;34m=\u001b[0m \u001b[0mto_graph\u001b[0m\u001b[0;34m(\u001b[0m\u001b[0mdf_edges\u001b[0m\u001b[0;34m,\u001b[0m\u001b[0;34m'from'\u001b[0m\u001b[0;34m,\u001b[0m\u001b[0;34m'to'\u001b[0m\u001b[0;34m,\u001b[0m\u001b[0;34m't_second'\u001b[0m\u001b[0;34m,\u001b[0m\u001b[0;34m't_minutes'\u001b[0m\u001b[0;34m,\u001b[0m\u001b[0;34m't_hours'\u001b[0m\u001b[0;34m,\u001b[0m\u001b[0;34m't_days'\u001b[0m\u001b[0;34m)\u001b[0m\u001b[0;34m\u001b[0m\u001b[0;34m\u001b[0m\u001b[0m\n",
      "\u001b[0;31mAttributeError\u001b[0m: 'list' object has no attribute 'drop_duplicates'"
     ]
    }
   ],
   "source": [
    "# multiprocessing\n",
    "# threading\n",
    "actual_num_trials=5\n",
    "arg_instances=list(np.arange(0,actual_num_trials,1))\n",
    "results = Parallel(n_jobs=20,verbose=11,backend=\"threading\")(\n",
    "             map(delayed(parallel_call_to_powerlaw_ADA), arg_instances))"
   ]
  },
  {
   "cell_type": "code",
   "execution_count": null,
   "id": "14a13e3e-60b1-4b62-9606-355389919327",
   "metadata": {},
   "outputs": [],
   "source": []
  },
  {
   "cell_type": "code",
   "execution_count": null,
   "id": "736b8599-de76-42db-87dc-f4dffafd6a0c",
   "metadata": {},
   "outputs": [],
   "source": []
  },
  {
   "cell_type": "code",
   "execution_count": null,
   "id": "3b3cb507-e58e-48f1-aaf3-192a810ee3dd",
   "metadata": {},
   "outputs": [],
   "source": [
    "file_name = path_results+'results_ADA_trials_anti'+str(ANTI_)+'_'+str(actual_num_trials)+'.pkl'\n",
    "open_file = open(file_name, \"wb\")\n",
    "pickle.dump(results, open_file)\n",
    "open_file.close()\n"
   ]
  },
  {
   "cell_type": "code",
   "execution_count": null,
   "id": "72560e41-cec0-494d-b0ce-011b7fcb029f",
   "metadata": {},
   "outputs": [],
   "source": [
    "# file_name"
   ]
  },
  {
   "cell_type": "code",
   "execution_count": null,
   "id": "305bc1c6-9bfc-4feb-9aa4-feef89cbba40",
   "metadata": {},
   "outputs": [],
   "source": []
  },
  {
   "cell_type": "code",
   "execution_count": null,
   "id": "a9b53051-f29a-4563-8560-a1b0990c7524",
   "metadata": {},
   "outputs": [],
   "source": [
    "l_rec_vs_Gamma=[];\n",
    "E_rec_vs_Gamma=[];\n",
    "B_nodes_vs_Gamma=[];\n",
    "B_edges_vs_Gamma=[]\n",
    "cc=0\n",
    "for xx in results:\n",
    "    a,b,c,d=xx\n",
    "    cc=cc+1\n",
    "    print(cc)\n",
    "    l_rec_vs_Gamma.append(a);\n",
    "    E_rec_vs_Gamma.append(b)\n",
    "    B_nodes_vs_Gamma.append(c)\n",
    "    B_edges_vs_Gamma.append(d)\n",
    "# a,b,c,d=try1\n",
    "# l_rec_vs_Gamma,E_rec_vs_Gamma,B_nodes_vs_Gamma,B_edges_vs_Gamma\n",
    "# l_rec_vs_Gamma,E_rec_vs_Gamma,B_nodes_vs_Gamma,B_edges_vs_Gamma=try2\n",
    "\n",
    "# =\n",
    "# l_rec_vs_Gamma"
   ]
  },
  {
   "cell_type": "code",
   "execution_count": null,
   "id": "dc34ced6-041a-4ff9-9940-ae0b02ec9b9b",
   "metadata": {},
   "outputs": [],
   "source": [
    "mean_a=np.mean(np.array(l_rec_vs_Gamma),0)\n",
    "mean_b=np.mean(np.array(E_rec_vs_Gamma),0)\n",
    "mean_c=np.mean(np.array(B_nodes_vs_Gamma),0)\n",
    "mean_d=np.mean(np.array(B_edges_vs_Gamma),0)\n",
    "storeGamma=np.linspace(-4,-2,21)\n",
    "\n",
    "with open(path_results+'results_ADA_storeGamma_trialsE10000'+str(ANTI_)+'_'+str(actual_num_trials)+'.npy', 'wb') as f:\n",
    "    np.save(f, mean_a)\n",
    "with open(path_results+'results_ADA_E_rec_vs_Gamma_trialsE10000'+str(ANTI_)+'_'+str(actual_num_trials)+'.npy', 'wb') as f:\n",
    "    np.save(f, mean_b)\n",
    "with open(path_results+'results_ADA_B_nodes_vs_Gamma_trialsE10000'+str(ANTI_)+'_'+str(actual_num_trials)+'.npy', 'wb') as f:\n",
    "    np.save(f, mean_c)\n",
    "with open(path_results+'results_ADA_B_edges_vs_Gamma_trialsE10000'+str(ANTI_)+'_'+str(actual_num_trials)+'.npy', 'wb') as f:\n",
    "    np.save(f, mean_d)\n",
    "with open(path_results+'results_ADA_storeGamma_trialsE10000'+str(ANTI_)+'_'+str(actual_num_trials)+'.npy', 'wb') as f:\n",
    "    np.save(f, storeGamma)    \n"
   ]
  },
  {
   "cell_type": "code",
   "execution_count": null,
   "id": "2aab37c9-4a4d-4f03-9488-e077c030a18b",
   "metadata": {},
   "outputs": [
    {
     "name": "stdout",
     "output_type": "stream",
     "text": [
      "  edges n: 4809/4809"
     ]
    }
   ],
   "source": [
    "#PLOTTING behaviour as a function of number of Gamma\n",
    "storeGamma=np.linspace(-4,-2,21)\n",
    "\n",
    "x=storeGamma;\n",
    "x =  [abs(ele) for ele in x]\n",
    "\n",
    "fig, axs = plt.subplots(2, 2)\n",
    "fig.tight_layout(pad=3.0)\n",
    "\n",
    "y=mean_a;\n",
    "axs[0, 0].plot(x, y,'o-')\n",
    "# plt.xlabel('number of edges, E');plt.ylabel('$P(l_{rec})$');\n",
    "\n",
    "# axs[0, 0].set_title('Axis [0, 0]')\n",
    "\n",
    "y=mean_b;\n",
    "axs[0, 1].plot(x, y,'yo-')\n",
    "# axs[0, 1].set_title('Axis [0, 1]')\n",
    "\n",
    "y=mean_c;\n",
    "axs[1, 0].plot(x, y,'ro-')\n",
    "# axs[1, 0].set_title('Axis [1, 0]')\n",
    "\n",
    "y=mean_d;\n",
    "axs[1, 1].plot(x, y,'go-')\n",
    "# axs[1, 1].set_title('Axis [1, 1]')\n",
    "\n",
    "i=0;labels_=['P(l_{rec})','P(E_{rec})','B_{nodes}','B_{edges}'];\n",
    "fig.suptitle('Nodes, N=500; Edges, E=5000')\n",
    "\n",
    "for ax in axs.flat:\n",
    "\n",
    "    ax.set(xlabel='power-law exponent of activity, $\\gamma$', ylabel='$'+labels_[i]+'$');i=i+1;\n",
    "plt.savefig(path_results+'fig_ADA_measures_VS_gammaE10000'+str(ANTI_)+'_'+str(actual_num_trials)+'.pdf')\n"
   ]
  },
  {
   "cell_type": "code",
   "execution_count": null,
   "id": "107acec0-9b45-4b9a-a0c3-f04001ef5435",
   "metadata": {},
   "outputs": [],
   "source": [
    "# N=500      # number of nodes in the empirical network \n",
    "# epsi=10**-3 # minimum allowed node activity\n",
    "# E=5000;\n",
    "# Gamma=-1.1\n",
    "# g=Gamma+1\n",
    "\n",
    "# elist,num_edges=create_AD_power_law_elist(N,E,epsi,g)"
   ]
  },
  {
   "cell_type": "code",
   "execution_count": null,
   "id": "8ca4ab78-6e0c-4727-8d1d-47fff0ed1a08",
   "metadata": {},
   "outputs": [],
   "source": [
    "# elist"
   ]
  },
  {
   "cell_type": "code",
   "execution_count": null,
   "id": "712772ca-6984-475d-81d7-bba2dcc23a3d",
   "metadata": {},
   "outputs": [],
   "source": []
  },
  {
   "cell_type": "code",
   "execution_count": null,
   "id": "8cdb30bb-a16e-45bd-af14-b67c0151b5f2",
   "metadata": {},
   "outputs": [],
   "source": []
  }
 ],
 "metadata": {
  "kernelspec": {
   "display_name": "Python 3",
   "language": "python",
   "name": "python3"
  },
  "language_info": {
   "codemirror_mode": {
    "name": "ipython",
    "version": 3
   },
   "file_extension": ".py",
   "mimetype": "text/x-python",
   "name": "python",
   "nbconvert_exporter": "python",
   "pygments_lexer": "ipython3",
   "version": "3.9.2"
  }
 },
 "nbformat": 4,
 "nbformat_minor": 5
}
