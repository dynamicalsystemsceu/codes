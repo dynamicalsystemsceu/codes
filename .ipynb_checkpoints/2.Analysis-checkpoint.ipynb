{
 "cells": [
  {
   "cell_type": "markdown",
   "metadata": {},
   "source": [
    "# Analysis"
   ]
  },
  {
   "cell_type": "code",
   "execution_count": 1,
   "metadata": {},
   "outputs": [],
   "source": [
    "from graph_tool.all import *\n",
    "import pickle\n",
    "import matplotlib\n",
    "import timeit\n",
    "\n",
    "def toc(start_time):\n",
    "    elapsed = timeit.default_timer() - start_time\n",
    "    print(elapsed)\n",
    "\n",
    "import numpy as np\n",
    "import matplotlib.pyplot as plt\n",
    "import pandas as pd\n",
    "import os\n",
    "import sys\n",
    "\n",
    "import collections\n",
    "import csv\n",
    "\n",
    "from functions_reci_bursty import *\n"
   ]
  },
  {
   "cell_type": "code",
   "execution_count": 2,
   "metadata": {},
   "outputs": [],
   "source": [
    "# a more general path that works for all -sam\n",
    "x_dir=os.getcwd().split('/');\n",
    "x_dir=os.getcwd().replace(x_dir[len(x_dir)-1],'')\n",
    "os.chdir(x_dir+'data/data_raw')\n",
    "\n",
    "# Adri's path\n",
    "# os.chdir('/Users/adriana/Desktop/CEU/_COURSES/Dynamical/FinalProject/data')\n",
    "\n",
    "# Elsa's path\n",
    "#os.chdir('/home/utilisateur/Desktop/Courses/Dynamics_on_networks/project/version_2/FinalProject/data')"
   ]
  },
  {
   "cell_type": "code",
   "execution_count": null,
   "metadata": {},
   "outputs": [],
   "source": []
  },
  {
   "cell_type": "markdown",
   "metadata": {},
   "source": [
    "## Test\n",
    "______"
   ]
  },
  {
   "cell_type": "raw",
   "metadata": {
    "tags": []
   },
   "source": [
    "# this a test graph to check the functions \n",
    "\n",
    "name = 'test'\n",
    "\n",
    "g_D = load_graph('./graphs_raw/'+name+\"_g_d.xml.gz\")\n",
    "g = load_graph('./graphs_raw/'+name+\"_g.xml.gz\")\n",
    "\n",
    "\n",
    "#g_D.remove_edge(g_D.edge(0,2) )\n",
    "#g_D.add_edge(2,0)\n",
    "#g_D.ep.ts_sec[(2,0)] = 2"
   ]
  },
  {
   "cell_type": "raw",
   "metadata": {
    "tags": []
   },
   "source": [
    "g = rec_nodes(g_D,g)\n",
    "g = burst_rec_nodes(g_D,g)\n",
    "g = burst_no_rec_nodes(g_D,g)\n",
    "g = burst_nodes(g_D,g)\n",
    "\n",
    "\n",
    "#graph_draw(g, vertex_text= g.vertex_index, edge_text= g.ep.p_Erec,output_size=(250, 250) )\n",
    "#graph_draw(g, vertex_text= g.vertex_index,edge_text= g_D.ep.ts_sec, output_size=(250, 250) )\n",
    "#graph_draw(g, vertex_text= g.vp.burst, output_size=(250, 250) )"
   ]
  },
  {
   "cell_type": "raw",
   "metadata": {},
   "source": [
    "g= compute_link_prop(g,g_D)\n",
    "\n",
    "graph_draw(g, vertex_text= g.vertex_index, edge_text= g.ep.p_Erec,output_size=(250, 250) )\n",
    "graph_draw(g_D, vertex_text= g_D.vertex_index, edge_text= g_D.ep.ts_sec, output_size=(250, 250) )"
   ]
  },
  {
   "cell_type": "markdown",
   "metadata": {},
   "source": [
    "# RUN & SAVE"
   ]
  },
  {
   "cell_type": "raw",
   "metadata": {},
   "source": [
    "Note the edge and nodes properties will be saved  on g!!!\n",
    "ie. on the aggregate static network"
   ]
  },
  {
   "cell_type": "code",
   "execution_count": 3,
   "metadata": {},
   "outputs": [],
   "source": [
    "run = False"
   ]
  },
  {
   "cell_type": "code",
   "execution_count": null,
   "metadata": {},
   "outputs": [
    {
     "name": "stdout",
     "output_type": "stream",
     "text": [
      "loading calls\n",
      "computing calls\n",
      "  edges n: 605/605saving calls\n",
      "loading sms\n",
      "computing sms\n",
      "  edges n: 697/697saving sms\n",
      "loading msg\n",
      "computing msg\n",
      "  edges n: 13837/13837saving msg\n",
      "loading email\n",
      "computing email\n",
      "  edges n: 16064/16064saving email\n",
      "loading mentions\n",
      "computing mentions\n"
     ]
    }
   ],
   "source": [
    "names =['calls', 'sms','msg','email', 'mentions','retweets','reply']\n",
    "\n",
    "if run == True: \n",
    "    for i in range(len(names)):\n",
    "        name = names[i]\n",
    "        print('loading '+name)\n",
    "\n",
    "        g_D = load_graph(x_dir+'data/graphs_raw/'+name+\"_g_d.xml.gz\")\n",
    "        g = load_graph(x_dir+'data/graphs_raw/'+name+\"_g.xml.gz\")\n",
    "\n",
    "        print('computing '+name)\n",
    "\n",
    "        # Do stuff on nodes\n",
    "        g = rec_nodes(g_D,g)\n",
    "        g = burst_rec_nodes(g_D,g)\n",
    "        g = burst_no_rec_nodes(g_D,g)\n",
    "        g = burst_nodes(g_D,g)\n",
    "\n",
    "        # Do stuff on edges\n",
    "        g= compute_link_prop(g,g_D)\n",
    "        \n",
    "        \n",
    "        # Filtering \n",
    "        g_filt=graph_filter_func(g,g_D)\n",
    "        \n",
    "        # Saving \n",
    "        # g\n",
    "        print('saving '+name)\n",
    "        name_store = open(x_dir+'data/graphs_fin/'+name+\"_g.pkl\", \"wb\")\n",
    "        pickle.dump(g,name_store)\n",
    "        name_store.close() \n",
    "        \n",
    "        # g_filt \n",
    "        name_store = open(x_dir+'data/graphs_fin/'+name+\"_g_filt.pkl\", \"wb\")\n",
    "        pickle.dump(g_filt,name_store)\n",
    "        name_store.close() "
   ]
  },
  {
   "cell_type": "code",
   "execution_count": null,
   "metadata": {},
   "outputs": [],
   "source": [
    "run = True"
   ]
  },
  {
   "cell_type": "code",
   "execution_count": null,
   "metadata": {},
   "outputs": [],
   "source": [
    "# Filtering \n",
    "names =['calls', 'sms','msg','email', 'mentions','retweets','reply']\n",
    "\n",
    "if run == True: \n",
    "    for i in range(len(names)):\n",
    "        name = names[i]\n",
    "        print('loading '+name)\n",
    "\n",
    "        g_D = load_graph(x_dir+'data/graphs_raw/'+name+\"_g_d.xml.gz\")\n",
    "        name_store = open(x_dir+'data/graphs_fin/'+name+\"_g.pkl\", \"rb\")\n",
    "        g = pickle.load(name_store)\n",
    "        name_store.close()\n",
    "    \n",
    "        \n",
    "        # Filtering \n",
    "        g_filt=graph_filter_func(g,g_D)\n",
    "    \n",
    "        \n",
    "        # g_filt \n",
    "        name_store = open(x_dir+'data/graphs_fin/'+name+\"_g_filt.pkl\", \"wb\")\n",
    "        pickle.dump(g_filt,name_store)\n",
    "        name_store.close() \n"
   ]
  },
  {
   "cell_type": "code",
   "execution_count": 7,
   "metadata": {},
   "outputs": [],
   "source": [
    "#------------ end :D"
   ]
  },
  {
   "cell_type": "code",
   "execution_count": null,
   "metadata": {},
   "outputs": [],
   "source": []
  },
  {
   "cell_type": "code",
   "execution_count": null,
   "metadata": {},
   "outputs": [],
   "source": []
  },
  {
   "cell_type": "code",
   "execution_count": null,
   "metadata": {},
   "outputs": [],
   "source": []
  }
 ],
 "metadata": {
  "kernelspec": {
   "display_name": "Python 3",
   "language": "python",
   "name": "python3"
  },
  "language_info": {
   "codemirror_mode": {
    "name": "ipython",
    "version": 3
   },
   "file_extension": ".py",
   "mimetype": "text/x-python",
   "name": "python",
   "nbconvert_exporter": "python",
   "pygments_lexer": "ipython3",
   "version": "3.9.2"
  }
 },
 "nbformat": 4,
 "nbformat_minor": 4
}
