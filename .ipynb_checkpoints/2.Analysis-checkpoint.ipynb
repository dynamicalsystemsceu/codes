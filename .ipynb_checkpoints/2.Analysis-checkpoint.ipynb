{
 "cells": [
  {
   "cell_type": "markdown",
   "metadata": {},
   "source": [
    "# Analysis"
   ]
  },
  {
   "cell_type": "code",
   "execution_count": 2,
   "metadata": {},
   "outputs": [],
   "source": [
    "from graph_tool.all import *\n",
    "import pickle\n",
    "import matplotlib\n",
    "\n",
    "import numpy as np\n",
    "import matplotlib.pyplot as plt\n",
    "import pandas as pd\n",
    "import os\n",
    "import sys\n",
    "\n",
    "import collections\n",
    "import csv\n",
    "\n",
    "from functions_reci_bursty import *\n"
   ]
  },
  {
   "cell_type": "code",
   "execution_count": 3,
   "metadata": {},
   "outputs": [],
   "source": [
    "# Adri's path\n",
    "os.chdir('/Users/adriana/Desktop/CEU/_COURSES/Dynamical/FinalProject/data')\n",
    "\n",
    "# Elsa's path\n",
    "#os.chdir('/home/utilisateur/Desktop/Courses/Dynamics_on_networks/project/version_2/FinalProject/data')"
   ]
  },
  {
   "cell_type": "markdown",
   "metadata": {},
   "source": [
    "## Test\n",
    "______"
   ]
  },
  {
   "cell_type": "raw",
   "metadata": {
    "tags": []
   },
   "source": [
    "# this a test graph to check the functions \n",
    "\n",
    "name = 'test'\n",
    "\n",
    "g_D = load_graph('./graphs_raw/'+name+\"_g_d.xml.gz\")\n",
    "g = load_graph('./graphs_raw/'+name+\"_g.xml.gz\")\n",
    "\n",
    "\n",
    "#g_D.remove_edge(g_D.edge(0,2) )\n",
    "#g_D.add_edge(2,0)\n",
    "#g_D.ep.ts_sec[(2,0)] = 2"
   ]
  },
  {
   "cell_type": "raw",
   "metadata": {
    "tags": []
   },
   "source": [
    "g = rec_nodes(g_D,g)\n",
    "g = burst_rec_nodes(g_D,g)\n",
    "g = burst_no_rec_nodes(g_D,g)\n",
    "g = burst_nodes(g_D,g)\n",
    "\n",
    "\n",
    "#graph_draw(g, vertex_text= g.vertex_index, edge_text= g.ep.p_Erec,output_size=(250, 250) )\n",
    "#graph_draw(g, vertex_text= g.vertex_index,edge_text= g_D.ep.ts_sec, output_size=(250, 250) )\n",
    "#graph_draw(g, vertex_text= g.vp.burst, output_size=(250, 250) )"
   ]
  },
  {
   "cell_type": "raw",
   "metadata": {},
   "source": [
    "g= compute_link_prop(g,g_D)\n",
    "\n",
    "graph_draw(g, vertex_text= g.vertex_index, edge_text= g.ep.p_Erec,output_size=(250, 250) )\n",
    "graph_draw(g_D, vertex_text= g_D.vertex_index, edge_text= g_D.ep.ts_sec, output_size=(250, 250) )"
   ]
  },
  {
   "cell_type": "markdown",
   "metadata": {},
   "source": [
    "# RUN & SAVE"
   ]
  },
  {
   "cell_type": "raw",
   "metadata": {},
   "source": [
    "Note the edge and nodes properties will be saved  on g!!!\n",
    "ie. on the aggregate static network"
   ]
  },
  {
   "cell_type": "code",
   "execution_count": 10,
   "metadata": {},
   "outputs": [
    {
     "name": "stdout",
     "output_type": "stream",
     "text": [
      "loading mentions\n",
      "computing mentions\n"
     ]
    },
    {
     "name": "stderr",
     "output_type": "stream",
     "text": [
      "<ipython-input-5-b5eff0caa753>:8: RuntimeWarning: invalid value encountered in double_scalars\n",
      "  return((std-mean)/(std+mean))\n"
     ]
    },
    {
     "name": "stdout",
     "output_type": "stream",
     "text": [
      "  edges n: 284338/284338saving mentions\n",
      "loading retweets\n",
      "computing retweets\n",
      "  edges n: 298460/298460saving retweets\n",
      "loading reply\n",
      "computing reply\n",
      "  edges n: 17180/17180saving reply\n"
     ]
    }
   ],
   "source": [
    "names = ['test', 'calls', 'sms','msg','email'] \n",
    "names =['mentions','retweets','reply']\n",
    "\n",
    "for i in range(len(names)):\n",
    "    name = names[i]\n",
    "    print('loading '+name)\n",
    "    \n",
    "    g_D = load_graph('./graphs_raw/'+name+\"_g_d.xml.gz\")\n",
    "    g = load_graph('./graphs_raw/'+name+\"_g.xml.gz\")\n",
    "    \n",
    "    print('computing '+name)\n",
    "    \n",
    "    # Do stuff on nodes\n",
    "    g = rec_nodes(g_D,g)\n",
    "    g = burst_rec_nodes(g_D,g)\n",
    "    g = burst_no_rec_nodes(g_D,g)\n",
    "    g = burst_nodes(g_D,g)\n",
    "    \n",
    "    # Do stuff on edges\n",
    "    g= compute_link_prop(g,g_D)\n",
    "        \n",
    "    # Save \n",
    "    print('saving '+name)\n",
    "    name_store = open('./graphs_fin/'+name+\"_g.pkl\", \"wb\")\n",
    "    pickle.dump(g,name_store)\n",
    "    name_store.close() "
   ]
  },
  {
   "cell_type": "markdown",
   "metadata": {},
   "source": [
    "# TABLE \n",
    "----"
   ]
  },
  {
   "cell_type": "code",
   "execution_count": null,
   "metadata": {},
   "outputs": [],
   "source": [
    "names = ['test', 'calls', 'sms','msg','email','mentions','retweets','reply']"
   ]
  },
  {
   "cell_type": "code",
   "execution_count": 25,
   "metadata": {},
   "outputs": [],
   "source": [
    "def table(name):\n",
    "    \n",
    "    # - Uploading graphs only g\n",
    "    #-------------------------------------    \n",
    "    name_store = open('./graphs_fin/'+name+\"_g.pkl\", \"rb\")\n",
    "    g = pickle.load(name_store)\n",
    "    name_store.close()\n",
    "    \n",
    "\n",
    "    # FILTERING\n",
    "    #-------------------------------------\n",
    "    \n",
    "    # a. (node filtering) Removing nodes with no reciprocal ecents\n",
    "    g_filt = GraphView(g, vfilt=lambda v: g.vp.n_rec_event[v] > 0.0)\n",
    "    \n",
    "    # b. (edge filtering) Removing unique edges bw two nodes (ie. if only one event bw two nodes)\n",
    "    g_filt = GraphView(g_filt, efilt=lambda e: g_filt.ep.n_events[e] != 1.0)\n",
    "    \n",
    "    \n",
    "    # OLDD OKK ??? \n",
    "    #Filtering in and out degree (keep only nodes with degree >=1)\n",
    "    #g_D_filt = GraphView(g_D, vfilt=lambda v: (v.out_degree()>=1)&(v.in_degree()>=1))\n",
    "    #g_filt = GraphView(g, vfilt=lambda v: (v in g_D_filt.vertices())==True)\n",
    "\n",
    "    \n",
    "    # TABLE\n",
    "    #-------------------------------------\n",
    "    DATA = {}\n",
    "    DATA['Nber_events'] = sum([g_filt.ep.n_events[v] for v in g_filt.edges()])\n",
    "    DATA['Nber_links'] = g_filt.num_edges()\n",
    "    DATA['Nber_nodes'] = g_filt.num_vertices() \n",
    "    \n",
    "    DATA['Proba_rec_event'] = np.mean([g_filt.ep.p_Erec[v] for v in g_filt.edges()])\n",
    "    DATA['Proba_rec_edge'] = sum([1 for v in g_filt.edges() if g_filt.ep.p_Erec[v]!= 0]) / g_filt.num_edges()\n",
    "    \n",
    "    DATA['Burst_nodes'] = np.mean([g_filt.vp.burst[v] for v in g_filt.vertices()])\n",
    "    DATA['Burst_edges'] = np.mean([g_filt.ep.burts[e] for e in g_filt.edges()])\n",
    "    \n",
    "    return(DATA)"
   ]
  },
  {
   "cell_type": "code",
   "execution_count": null,
   "metadata": {},
   "outputs": [],
   "source": []
  },
  {
   "cell_type": "code",
   "execution_count": null,
   "metadata": {},
   "outputs": [],
   "source": [
    "#------------ end :D"
   ]
  },
  {
   "cell_type": "code",
   "execution_count": null,
   "metadata": {},
   "outputs": [],
   "source": []
  }
 ],
 "metadata": {
  "kernelspec": {
   "display_name": "Python 3",
   "language": "python",
   "name": "python3"
  },
  "language_info": {
   "codemirror_mode": {
    "name": "ipython",
    "version": 3
   },
   "file_extension": ".py",
   "mimetype": "text/x-python",
   "name": "python",
   "nbconvert_exporter": "python",
   "pygments_lexer": "ipython3",
   "version": "3.9.2"
  }
 },
 "nbformat": 4,
 "nbformat_minor": 4
}
