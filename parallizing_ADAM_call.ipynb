{
 "cells": [
  {
   "cell_type": "code",
   "execution_count": null,
   "id": "8978fb6e-1798-4631-b1f3-5704fddfcf7a",
   "metadata": {},
   "outputs": [],
   "source": []
  },
  {
   "cell_type": "code",
   "execution_count": 1,
   "id": "58d90f4c-39cd-4107-a576-eb31aa17202c",
   "metadata": {},
   "outputs": [],
   "source": [
    "from graph_tool.all import *\n",
    "import pickle\n",
    "import matplotlib\n",
    "import random\n",
    "\n",
    "import numpy as np\n",
    "import matplotlib.pyplot as plt\n",
    "import pandas as pd\n",
    "import os\n",
    "import sys\n",
    "import matplotlib.pyplot as plt\n",
    "import random\n",
    "import math\n",
    "import collections\n",
    "import csv\n",
    "import timeit\n",
    "\n",
    "def toc(start_time):\n",
    "    elapsed = timeit.default_timer() - start_time\n",
    "    print(elapsed)\n",
    "start_time = timeit.default_timer()\n",
    "\n",
    "#%matplotlib inline\n",
    "%config InlineBackend.figure_format = 'svg'\n",
    "plt.rcParams.update({'font.size': 8, 'font.style': 'normal', 'font.family':'serif'})\n",
    "#matplotlib.rcParams.update({'font.size': 18})\n",
    "\n",
    "from functions_reci_bursty import *\n",
    "from statistics import *\n",
    "\n",
    "from ADAM_model_power_law import *\n",
    "\n",
    "from multiprocessing import Process\n",
    "from joblib import Parallel, delayed\n",
    "\n",
    "\n",
    "path_code='/mnt/sdb1/sandeep/1.Reciprocity/code/'\n",
    "path_data='/mnt/sdb1/sandeep/1.Reciprocity/data/'\n",
    "path_results='/mnt/sdb1/sandeep/1.Reciprocity/res/'"
   ]
  },
  {
   "cell_type": "code",
   "execution_count": 3,
   "id": "7ffe71ce-fc9d-4142-bc3c-64257d78a3ee",
   "metadata": {},
   "outputs": [],
   "source": [
    "# N=500      # number of nodes in the empirical network \n",
    "# epsi=10**-3 # minimum allowed node activity\n",
    "# E=5000;\n",
    "# para1=1;para2=0;\n",
    "# Gamma=-4\n",
    "# g=Gamma+1\n",
    "\n",
    "# elist,num_edges=create_ADAM_power_law_elist(N,E,epsi,g,para1,para2)\n",
    "\n",
    "# Y=measures(pd.DataFrame(elist),'ADAM MODEL');\n",
    "# # Y=measures(elist,'ADAM MODEL');\n",
    "# #             del elist\n",
    "# #             temp_l_rec.append(Y.iloc[0,0])\n",
    "# #             temp_E_rec.append(Y.iloc[0,1])\n",
    "# #             temp_B_nodes.append(Y.iloc[0,2])\n",
    "# #             temp_B_edges.append(Y.iloc[0,3])\n"
   ]
  },
  {
   "cell_type": "code",
   "execution_count": null,
   "id": "ecfccfac-6e9d-4eda-b0b7-4a41a6589e1b",
   "metadata": {},
   "outputs": [],
   "source": [
    "# Y=measures(elist,'ADAM MODEL');\n"
   ]
  },
  {
   "cell_type": "code",
   "execution_count": 3,
   "id": "03863d9c-5e40-4a4d-a2d8-c3da8a81b8c2",
   "metadata": {},
   "outputs": [
    {
     "data": {
      "text/html": [
       "<div>\n",
       "<style scoped>\n",
       "    .dataframe tbody tr th:only-of-type {\n",
       "        vertical-align: middle;\n",
       "    }\n",
       "\n",
       "    .dataframe tbody tr th {\n",
       "        vertical-align: top;\n",
       "    }\n",
       "\n",
       "    .dataframe thead th {\n",
       "        text-align: right;\n",
       "    }\n",
       "</style>\n",
       "<table border=\"1\" class=\"dataframe\">\n",
       "  <thead>\n",
       "    <tr style=\"text-align: right;\">\n",
       "      <th></th>\n",
       "      <th>P(l_rec)</th>\n",
       "      <th>P(E_rec)</th>\n",
       "      <th>B_nodes</th>\n",
       "      <th>B_edges</th>\n",
       "    </tr>\n",
       "    <tr>\n",
       "      <th>Method</th>\n",
       "      <th></th>\n",
       "      <th></th>\n",
       "      <th></th>\n",
       "      <th></th>\n",
       "    </tr>\n",
       "  </thead>\n",
       "  <tbody>\n",
       "    <tr>\n",
       "      <th>ADAM MODEL</th>\n",
       "      <td>0.773865</td>\n",
       "      <td>0.482164</td>\n",
       "      <td>-0.09171</td>\n",
       "      <td>-0.41126</td>\n",
       "    </tr>\n",
       "  </tbody>\n",
       "</table>\n",
       "</div>"
      ],
      "text/plain": [
       "            P(l_rec)  P(E_rec)  B_nodes  B_edges\n",
       "Method                                          \n",
       "ADAM MODEL  0.773865  0.482164 -0.09171 -0.41126"
      ]
     },
     "execution_count": 3,
     "metadata": {},
     "output_type": "execute_result"
    }
   ],
   "source": [
    "Y"
   ]
  },
  {
   "cell_type": "code",
   "execution_count": 1,
   "id": "1bd4a36c-a380-4c4e-8383-68f518639636",
   "metadata": {},
   "outputs": [],
   "source": [
    "# with open(path_data+'sms_ijt.pickle', 'rb') as handle:\n",
    "#     sms_data = pickle.load(handle)\n",
    "\n",
    "# df_edges_sms = pd.DataFrame(sms_data, columns = ['from', 'to', 't_second'])\n",
    "\n",
    "\n",
    "# df_edges_college = pd.read_table(\n",
    "#     path_data+'CollegeMsg.txt',header=None,sep=\" \")\n",
    "# df_edges_college.columns = ['from', 'to', 't_second']\n",
    "# # print(df_edges_email)\n",
    "\n",
    "\n",
    "# Y=measures(df_edges_college.drop_duplicates(),'ADAM MODEL');\n"
   ]
  },
  {
   "cell_type": "code",
   "execution_count": 5,
   "id": "7c2d6389-bf10-4b66-aca6-fd8a310672e9",
   "metadata": {},
   "outputs": [],
   "source": [
    "ANTI_=0\n",
    "def parallel_call_to_powerlaw_ADAM(arg):\n",
    "\n",
    "\n",
    "    N=500      # number of nodes in the empirical network \n",
    "    epsi=10**-3 # minimum allowed node activity\n",
    "    E=5000;\n",
    "\n",
    "    l_rec_vs_Gamma=[];E_rec_vs_Gamma=[];B_nodes_vs_Gamma=[];B_edges_vs_Gamma=[];\n",
    "    # storeE=np.linspace(500,5000,5)\n",
    "    storeGamma=np.linspace(-4,-2,21)\n",
    "    #[-2,-2.2,-2.4,-2.6,-2.8,-3,-3.2,-3.4,-3.6,-3.8,-4];\n",
    "\n",
    "    num_trials=1;\n",
    "\n",
    "    for Gamma in storeGamma:\n",
    "        g=Gamma+1\n",
    "        print('Gamma=',Gamma,)\n",
    "\n",
    "        temp_l_rec=[];temp_E_rec=[];temp_B_nodes=[];temp_B_edges=[];\n",
    "        for trials in range(num_trials):\n",
    "\n",
    "\n",
    "\n",
    "            # number of edges in the empirical network\n",
    "            # CALL TO ACVITY DRIVEN MODEL, RETURN TIME ORDERED EDGELIST\n",
    "            para1=1;para2=0;\n",
    "            if ANTI_==0:\n",
    "                elist,num_edges=create_ADAM_power_law_elist(N,E,epsi,g,para1,para2)\n",
    "            else:\n",
    "                elist,num_edges=create_ADAM_power_law_elist_anticorrelated(N,E,epsi,g,para1,para2)\n",
    "            \n",
    "\n",
    "            Y=measures(pd.DataFrame(elist),'ADAM MODEL');\n",
    "            del elist\n",
    "            temp_l_rec.append(Y.iloc[0,0])\n",
    "            temp_E_rec.append(Y.iloc[0,1])\n",
    "            temp_B_nodes.append(Y.iloc[0,2])\n",
    "            temp_B_edges.append(Y.iloc[0,3])\n",
    "    #         print('\\n')\n",
    "\n",
    "        l_rec_vs_Gamma.append(mean(temp_l_rec))\n",
    "        E_rec_vs_Gamma.append(mean(temp_E_rec))\n",
    "        B_nodes_vs_Gamma.append(mean(temp_B_nodes))\n",
    "        B_edges_vs_Gamma.append(mean(temp_B_edges))\n",
    "#         print(end='\\r')\n",
    "    print('\\n')\n",
    "    return l_rec_vs_Gamma,E_rec_vs_Gamma,B_nodes_vs_Gamma,B_edges_vs_Gamma\n",
    "\n",
    "\n",
    "# create_ADAM_power_law_elist_anticorrelated\n"
   ]
  },
  {
   "cell_type": "code",
   "execution_count": null,
   "id": "8fc50b01-dbc1-4cc3-9bbc-79770c757754",
   "metadata": {},
   "outputs": [],
   "source": []
  },
  {
   "cell_type": "code",
   "execution_count": null,
   "id": "0fc87287-f525-42ad-b244-98c565ba5516",
   "metadata": {},
   "outputs": [],
   "source": []
  },
  {
   "cell_type": "code",
   "execution_count": null,
   "id": "43c040fa-e0aa-4302-9ca8-6c147b6148c2",
   "metadata": {},
   "outputs": [
    {
     "name": "stdout",
     "output_type": "stream",
     "text": [
      "Gamma=Gamma= -4.0\n",
      "Gamma= -4.0\n",
      "Gamma= Gamma= -4.0\n",
      "0.0 -4.0\n",
      "Gamma= -4.0\n",
      "Gamma= -4.0\n",
      "Gamma= -4.0\n",
      "Gamma= -4.0\n",
      "Gamma= -4.0\n",
      "-4.0\n",
      "0.2462.25468.25420.245680.01340.02260.04980.0610.0750.07580.10180.11040.11780.12420.13160.13840.15960.1920.19680.21260.2484"
     ]
    }
   ],
   "source": [
    "# multiprocessing\n",
    "# threading\n",
    "actual_num_trials=10\n",
    "arg_instances=list(np.arange(0,actual_num_trials,1))\n",
    "results = Parallel(n_jobs=20,verbose=0,backend=\"threading\")(\n",
    "             map(delayed(parallel_call_to_powerlaw_ADAM), arg_instances))"
   ]
  },
  {
   "cell_type": "code",
   "execution_count": null,
   "id": "14a13e3e-60b1-4b62-9606-355389919327",
   "metadata": {},
   "outputs": [],
   "source": [
    "file_name = path_results+'results_ADAM_trials_'+str(ANTI_)+'_'+str(actual_num_trials)+'.pkl'\n",
    "open_file = open(file_name, \"wb\")\n",
    "pickle.dump(results, open_file)\n",
    "open_file.close()"
   ]
  },
  {
   "cell_type": "code",
   "execution_count": null,
   "id": "72560e41-cec0-494d-b0ce-011b7fcb029f",
   "metadata": {},
   "outputs": [],
   "source": []
  },
  {
   "cell_type": "code",
   "execution_count": null,
   "id": "305bc1c6-9bfc-4feb-9aa4-feef89cbba40",
   "metadata": {},
   "outputs": [],
   "source": []
  },
  {
   "cell_type": "code",
   "execution_count": null,
   "id": "a9b53051-f29a-4563-8560-a1b0990c7524",
   "metadata": {},
   "outputs": [],
   "source": [
    "l_rec_vs_Gamma=[];\n",
    "E_rec_vs_Gamma=[];\n",
    "B_nodes_vs_Gamma=[];\n",
    "B_edges_vs_Gamma=[]\n",
    "cc=0\n",
    "for xx in results:\n",
    "    a,b,c,d=xx\n",
    "    cc=cc+1\n",
    "    print(cc)\n",
    "    l_rec_vs_Gamma.append(a);\n",
    "    E_rec_vs_Gamma.append(b)\n",
    "    B_nodes_vs_Gamma.append(c)\n",
    "    B_edges_vs_Gamma.append(d)\n",
    "# a,b,c,d=try1\n",
    "# l_rec_vs_Gamma,E_rec_vs_Gamma,B_nodes_vs_Gamma,B_edges_vs_Gamma\n",
    "# l_rec_vs_Gamma,E_rec_vs_Gamma,B_nodes_vs_Gamma,B_edges_vs_Gamma=try2\n",
    "\n",
    "# =\n",
    "# l_rec_vs_Gamma"
   ]
  },
  {
   "cell_type": "code",
   "execution_count": null,
   "id": "af2973b9-fdd0-4e63-b039-914dadc566ed",
   "metadata": {},
   "outputs": [],
   "source": [
    "# B_edges_vs_Gamma\n",
    "# E_rec_vs_Gamma\n",
    "# B_nodes_vs_Gamma\n",
    "# B_edges_vs_Gamma"
   ]
  },
  {
   "cell_type": "code",
   "execution_count": null,
   "id": "dc34ced6-041a-4ff9-9940-ae0b02ec9b9b",
   "metadata": {},
   "outputs": [],
   "source": [
    "mean_a=np.mean(np.array(B_edges_vs_Gamma),0)\n",
    "mean_b=np.mean(np.array(E_rec_vs_Gamma),0)\n",
    "mean_c=np.mean(np.array(B_nodes_vs_Gamma),0)\n",
    "mean_d=np.mean(np.array(B_edges_vs_Gamma),0)\n",
    "storeGamma=np.linspace(-4,-2,21)\n",
    "\n",
    "with open(path_results+'results_ADAM_storeGamma_trialsE10000'+str(ANTI_)+'_'+str(actual_num_trials)+'.npy', 'wb') as f:\n",
    "    np.save(f, mean_a)\n",
    "    \n",
    "with open(path_results+'results_ADAM_E_rec_vs_Gamma_trialsE10000'+str(ANTI_)+'_'+str(actual_num_trials)+'.npy', 'wb') as f:\n",
    "    np.save(f, mean_b)\n",
    "with open(path_results+'results_ADAM_B_nodes_vs_Gamma_trialsE10000'+str(ANTI_)+'_'+str(actual_num_trials)+'.npy', 'wb') as f:\n",
    "    np.save(f, mean_c)\n",
    "with open(path_results+'results_ADAM_B_edges_vs_Gamma_trialsE10000'+str(ANTI_)+'_'+str(actual_num_trials)+'.npy', 'wb') as f:\n",
    "    np.save(f, mean_d)\n",
    "with open(path_results+'results_ADAM_storeGamma_trialsE10000'+str(ANTI_)+'_'+str(actual_num_trials)+'.npy', 'wb') as f:\n",
    "    np.save(f, storeGamma)    \n"
   ]
  },
  {
   "cell_type": "code",
   "execution_count": null,
   "id": "2aab37c9-4a4d-4f03-9488-e077c030a18b",
   "metadata": {},
   "outputs": [],
   "source": [
    "#PLOTTING behaviour as a function of number of Gamma\n",
    "storeGamma=np.linspace(-4,-2,21)\n",
    "\n",
    "x=storeGamma;\n",
    "x =  [abs(ele) for ele in x]\n",
    "\n",
    "\n",
    "fig, axs = plt.subplots(2, 2)\n",
    "fig.tight_layout(pad=3.0)\n",
    "\n",
    "y=mean_a;\n",
    "axs[0, 0].plot(x, y,'o-')\n",
    "# plt.xlabel('number of edges, E');plt.ylabel('$P(l_{rec})$');\n",
    "\n",
    "# axs[0, 0].set_title('Axis [0, 0]')\n",
    "\n",
    "y=mean_b;\n",
    "axs[0, 1].plot(x, y,'yo-')\n",
    "# axs[0, 1].set_title('Axis [0, 1]')\n",
    "\n",
    "y=mean_c;\n",
    "axs[1, 0].plot(x, y,'ro-')\n",
    "# axs[1, 0].set_title('Axis [1, 0]')\n",
    "\n",
    "y=mean_d;\n",
    "axs[1, 1].plot(x, y,'go-')\n",
    "# axs[1, 1].set_title('Axis [1, 1]')\n",
    "\n",
    "i=0;labels_=['P(l_{rec})','P(E_{rec})','B_{nodes}','B_{edges}'];\n",
    "fig.suptitle('Nodes, N=500; Edges, E=5000')\n",
    "\n",
    "for ax in axs.flat:\n",
    "\n",
    "    ax.set(xlabel='power-law exponent of activity, $\\gamma$', ylabel='$'+labels_[i]+'$');i=i+1;\n",
    "plt.savefig(path_results+'fig_ADAM_measures_VS_gamma_E10000trials'+str(ANTI_)+'_'+str(actual_num_trials)+'.pdf')\n"
   ]
  },
  {
   "cell_type": "markdown",
   "id": "8df866e1-8f66-4a89-bfb9-b066b3f1b1c1",
   "metadata": {},
   "source": [
    "# Plotting k_in vs k_out"
   ]
  },
  {
   "cell_type": "code",
   "execution_count": null,
   "id": "8ca4ab78-6e0c-4727-8d1d-47fff0ed1a08",
   "metadata": {},
   "outputs": [],
   "source": []
  },
  {
   "cell_type": "code",
   "execution_count": null,
   "id": "bedf365a-255f-4d06-af20-acee3fe62375",
   "metadata": {},
   "outputs": [],
   "source": []
  }
 ],
 "metadata": {
  "kernelspec": {
   "display_name": "Python 3",
   "language": "python",
   "name": "python3"
  },
  "language_info": {
   "codemirror_mode": {
    "name": "ipython",
    "version": 3
   },
   "file_extension": ".py",
   "mimetype": "text/x-python",
   "name": "python",
   "nbconvert_exporter": "python",
   "pygments_lexer": "ipython3",
   "version": "3.9.2"
  }
 },
 "nbformat": 4,
 "nbformat_minor": 5
}
