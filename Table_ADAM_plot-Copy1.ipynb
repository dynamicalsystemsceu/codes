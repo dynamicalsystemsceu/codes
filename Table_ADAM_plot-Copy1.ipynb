{
 "cells": [
  {
   "cell_type": "code",
   "execution_count": 1,
   "id": "06b57797-505d-4bd7-882f-a3fb95d12d3e",
   "metadata": {},
   "outputs": [],
   "source": [
    "from graph_tool.all import *\n",
    "import graph_tool as gt\n",
    "import pickle\n",
    "import matplotlib\n",
    "import random\n",
    "\n",
    "import numpy as np\n",
    "import matplotlib.pyplot as plt\n",
    "import pandas as pd\n",
    "import os\n",
    "\n",
    "import sys\n",
    "import matplotlib.pyplot as plt\n",
    "import random\n",
    "import math\n",
    "import collections\n",
    "import csv\n",
    "import timeit\n",
    "import time\n",
    "\n",
    "def toc(start_time):\n",
    "    elapsed = timeit.default_timer() - start_time\n",
    "    print(elapsed)\n",
    "start_time = timeit.default_timer()\n",
    "\n",
    "#%matplotlib inline\n",
    "# %config InlineBackend.figure_format = 'svg'\n",
    "plt.rcParams.update({'font.size': 8, 'font.style': 'normal', 'font.family':'serif'})\n",
    "#matplotlib.rcParams.update({'font.size': 18})\n",
    "from functions_reci_bursty import *\n",
    "from statistics import *\n",
    "\n",
    "# a more general path that works for all -sam\n",
    "x_dir=os.getcwd().split('/');\n",
    "x_dir=os.getcwd().replace(x_dir[len(x_dir)-1],'')\n",
    "# os.chdir(x_dir+'data/data_raw')\n",
    "\n",
    "path_code='/mnt/sdb1/sandeep/1.Reciprocity/codes/'\n",
    "path_data=x_dir+'data/data_raw/'\n",
    "path_results='/mnt/sdb1/sandeep/1.Reciprocity/res/'\n",
    "\n",
    "\n"
   ]
  },
  {
   "cell_type": "code",
   "execution_count": null,
   "id": "7cf808cb-3e27-44cd-a4f0-06a01535e371",
   "metadata": {},
   "outputs": [],
   "source": [
    "CHOICE_OF_OBJECTIVE=2\n"
   ]
  },
  {
   "cell_type": "code",
   "execution_count": null,
   "id": "4e07b77a-9226-4073-a05d-59373d82ffb3",
   "metadata": {},
   "outputs": [],
   "source": []
  },
  {
   "cell_type": "code",
   "execution_count": null,
   "id": "6221cd21-72ed-421b-89cf-b7844b86392d",
   "metadata": {},
   "outputs": [],
   "source": []
  }
 ],
 "metadata": {
  "kernelspec": {
   "display_name": "Python 3",
   "language": "python",
   "name": "python3"
  },
  "language_info": {
   "codemirror_mode": {
    "name": "ipython",
    "version": 3
   },
   "file_extension": ".py",
   "mimetype": "text/x-python",
   "name": "python",
   "nbconvert_exporter": "python",
   "pygments_lexer": "ipython3",
   "version": "3.9.2"
  }
 },
 "nbformat": 4,
 "nbformat_minor": 5
}
