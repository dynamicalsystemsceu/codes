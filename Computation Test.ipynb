{
 "cells": [
  {
   "cell_type": "code",
   "execution_count": 1,
   "id": "de72ec06-0b1a-448d-85cc-0e9ec33fd2ee",
   "metadata": {},
   "outputs": [],
   "source": [
    "import pandas as pd\n",
    "import numpy as np"
   ]
  },
  {
   "cell_type": "code",
   "execution_count": 2,
   "id": "e45fc120-49e9-407f-9cf8-0f63abdb4a89",
   "metadata": {},
   "outputs": [],
   "source": [
    "original_network = {\"P(l_rec)\":0.1038, \"P(E_rec)\":0.0780,  \"B_nodes\": 0.7653, \"B_edges\":0.5161}"
   ]
  },
  {
   "cell_type": "markdown",
   "id": "5e46d1bf-31ac-4381-8765-ba839708dea6",
   "metadata": {},
   "source": [
    "# 1 Shuffle timestamps on whole network"
   ]
  },
  {
   "cell_type": "code",
   "execution_count": 3,
   "id": "069da969-5fc2-4b5b-bf78-0ce3f88b879e",
   "metadata": {},
   "outputs": [
    {
     "name": "stdout",
     "output_type": "stream",
     "text": [
      "1 Shuffle timestamps on whole network 100 data points\n"
     ]
    },
    {
     "data": {
      "text/html": [
       "<div>\n",
       "<style scoped>\n",
       "    .dataframe tbody tr th:only-of-type {\n",
       "        vertical-align: middle;\n",
       "    }\n",
       "\n",
       "    .dataframe tbody tr th {\n",
       "        vertical-align: top;\n",
       "    }\n",
       "\n",
       "    .dataframe thead th {\n",
       "        text-align: right;\n",
       "    }\n",
       "</style>\n",
       "<table border=\"1\" class=\"dataframe\">\n",
       "  <thead>\n",
       "    <tr style=\"text-align: right;\">\n",
       "      <th></th>\n",
       "      <th>P(l_rec)</th>\n",
       "      <th>P(E_rec)</th>\n",
       "      <th>B_nodes</th>\n",
       "      <th>B_edges</th>\n",
       "    </tr>\n",
       "  </thead>\n",
       "  <tbody>\n",
       "    <tr>\n",
       "      <th>Original</th>\n",
       "      <td>1.038000e-01</td>\n",
       "      <td>0.078000</td>\n",
       "      <td>0.765300</td>\n",
       "      <td>0.516100</td>\n",
       "    </tr>\n",
       "    <tr>\n",
       "      <th>Mean</th>\n",
       "      <td>2.245919e-02</td>\n",
       "      <td>0.046386</td>\n",
       "      <td>0.545268</td>\n",
       "      <td>0.310326</td>\n",
       "    </tr>\n",
       "    <tr>\n",
       "      <th>Std</th>\n",
       "      <td>6.938894e-18</td>\n",
       "      <td>0.000146</td>\n",
       "      <td>0.000493</td>\n",
       "      <td>0.000539</td>\n",
       "    </tr>\n",
       "    <tr>\n",
       "      <th>Z-score</th>\n",
       "      <td>1.172245e+16</td>\n",
       "      <td>216.578165</td>\n",
       "      <td>446.476839</td>\n",
       "      <td>381.516557</td>\n",
       "    </tr>\n",
       "  </tbody>\n",
       "</table>\n",
       "</div>"
      ],
      "text/plain": [
       "              P(l_rec)    P(E_rec)     B_nodes     B_edges\n",
       "Original  1.038000e-01    0.078000    0.765300    0.516100\n",
       "Mean      2.245919e-02    0.046386    0.545268    0.310326\n",
       "Std       6.938894e-18    0.000146    0.000493    0.000539\n",
       "Z-score   1.172245e+16  216.578165  446.476839  381.516557"
      ]
     },
     "execution_count": 3,
     "metadata": {},
     "output_type": "execute_result"
    }
   ],
   "source": [
    "df = pd.read_csv(\"1. Shuffle_timestamps_edgelist_twitter_mentions.txt\")\n",
    "method = '1 Shuffle timestamps on whole network ' + str(len(df)) +' data points'\n",
    "measures = [\"P(l_rec)\",\"P(E_rec)\",\"B_nodes\",\"B_edges\"]\n",
    "means = {}\n",
    "stds = {}\n",
    "z_scores = {}\n",
    "for measure in measures:\n",
    "    measure_column = df[measure]\n",
    "    means[measure] = np.mean(measure_column)\n",
    "    stds[measure] = np.std(measure_column)\n",
    "    z_scores[measure] =(original_network[measure] - np.mean(measure_column))/np.std(measure_column)\n",
    "    \n",
    "original_df = pd.DataFrame(original_network,index=['Original'])\n",
    "mean_df = pd.DataFrame(means,index=['Mean'])\n",
    "std_df  = pd.DataFrame(stds,index=['Std'])\n",
    "z_score_df =  pd.DataFrame(z_scores,index=['Z-score'])\n",
    "\n",
    "print(method)\n",
    "results = original_df.append(mean_df)\n",
    "results = results.append(std_df)\n",
    "results = results.append(z_score_df)\n",
    "results"
   ]
  },
  {
   "cell_type": "markdown",
   "id": "16370fde-e5a1-474e-ae35-8dd54dea4277",
   "metadata": {},
   "source": [
    "# 2 Rewire links and shuffle timestamps on whole network'"
   ]
  },
  {
   "cell_type": "code",
   "execution_count": 4,
   "id": "7af4daf0-1f1c-42ab-9114-bf1b0f87b03d",
   "metadata": {},
   "outputs": [
    {
     "name": "stdout",
     "output_type": "stream",
     "text": [
      "2 Rewire links and shuffle timestamps on whole network  44 data points\n"
     ]
    },
    {
     "data": {
      "text/html": [
       "<div>\n",
       "<style scoped>\n",
       "    .dataframe tbody tr th:only-of-type {\n",
       "        vertical-align: middle;\n",
       "    }\n",
       "\n",
       "    .dataframe tbody tr th {\n",
       "        vertical-align: top;\n",
       "    }\n",
       "\n",
       "    .dataframe thead th {\n",
       "        text-align: right;\n",
       "    }\n",
       "</style>\n",
       "<table border=\"1\" class=\"dataframe\">\n",
       "  <thead>\n",
       "    <tr style=\"text-align: right;\">\n",
       "      <th></th>\n",
       "      <th>P(l_rec)</th>\n",
       "      <th>P(E_rec)</th>\n",
       "      <th>B_nodes</th>\n",
       "      <th>B_edges</th>\n",
       "    </tr>\n",
       "  </thead>\n",
       "  <tbody>\n",
       "    <tr>\n",
       "      <th>Original</th>\n",
       "      <td>0.103800</td>\n",
       "      <td>0.078000</td>\n",
       "      <td>0.765300</td>\n",
       "      <td>0.516100</td>\n",
       "    </tr>\n",
       "    <tr>\n",
       "      <th>Mean</th>\n",
       "      <td>0.014853</td>\n",
       "      <td>0.028033</td>\n",
       "      <td>0.543784</td>\n",
       "      <td>0.216773</td>\n",
       "    </tr>\n",
       "    <tr>\n",
       "      <th>Std</th>\n",
       "      <td>0.000150</td>\n",
       "      <td>0.000208</td>\n",
       "      <td>0.000348</td>\n",
       "      <td>0.000801</td>\n",
       "    </tr>\n",
       "    <tr>\n",
       "      <th>Z-score</th>\n",
       "      <td>592.378474</td>\n",
       "      <td>239.660011</td>\n",
       "      <td>636.981845</td>\n",
       "      <td>373.607526</td>\n",
       "    </tr>\n",
       "  </tbody>\n",
       "</table>\n",
       "</div>"
      ],
      "text/plain": [
       "            P(l_rec)    P(E_rec)     B_nodes     B_edges\n",
       "Original    0.103800    0.078000    0.765300    0.516100\n",
       "Mean        0.014853    0.028033    0.543784    0.216773\n",
       "Std         0.000150    0.000208    0.000348    0.000801\n",
       "Z-score   592.378474  239.660011  636.981845  373.607526"
      ]
     },
     "execution_count": 4,
     "metadata": {},
     "output_type": "execute_result"
    }
   ],
   "source": [
    "df = pd.read_csv(\"2. Shuffle_from_to_timestamps_edgelist_twitter_mentions.txt\")\n",
    "method = '2 Rewire links and shuffle timestamps on whole network  ' + str(len(df)) +' data points'\n",
    "measures = [\"P(l_rec)\",\"P(E_rec)\",\"B_nodes\",\"B_edges\"]\n",
    "means = {}\n",
    "stds = {}\n",
    "z_scores = {}\n",
    "for measure in measures:\n",
    "    measure_column = df[measure]\n",
    "    means[measure] = np.mean(measure_column)\n",
    "    stds[measure] = np.std(measure_column)\n",
    "    z_scores[measure] =(original_network[measure] - np.mean(measure_column))/np.std(measure_column)\n",
    "    \n",
    "original_df = pd.DataFrame(original_network,index=['Original'])\n",
    "mean_df = pd.DataFrame(means,index=['Mean'])\n",
    "std_df  = pd.DataFrame(stds,index=['Std'])\n",
    "z_score_df =  pd.DataFrame(z_scores,index=['Z-score'])\n",
    "\n",
    "print(method)\n",
    "results = original_df.append(mean_df)\n",
    "results = results.append(std_df)\n",
    "results = results.append(z_score_df)\n",
    "results"
   ]
  },
  {
   "cell_type": "markdown",
   "id": "03e3bb09-8885-4a5f-92d3-a846f6abe51e",
   "metadata": {},
   "source": [
    "# 4 Shuffle timestamps for each node"
   ]
  },
  {
   "cell_type": "code",
   "execution_count": 6,
   "id": "c8977f2d-9340-4586-b566-a332a75b7de7",
   "metadata": {},
   "outputs": [
    {
     "name": "stdout",
     "output_type": "stream",
     "text": [
      "4 Shuffle timestamps for each node 32 data points\n"
     ]
    },
    {
     "data": {
      "text/html": [
       "<div>\n",
       "<style scoped>\n",
       "    .dataframe tbody tr th:only-of-type {\n",
       "        vertical-align: middle;\n",
       "    }\n",
       "\n",
       "    .dataframe tbody tr th {\n",
       "        vertical-align: top;\n",
       "    }\n",
       "\n",
       "    .dataframe thead th {\n",
       "        text-align: right;\n",
       "    }\n",
       "</style>\n",
       "<table border=\"1\" class=\"dataframe\">\n",
       "  <thead>\n",
       "    <tr style=\"text-align: right;\">\n",
       "      <th></th>\n",
       "      <th>P(l_rec)</th>\n",
       "      <th>P(E_rec)</th>\n",
       "      <th>B_nodes</th>\n",
       "      <th>B_edges</th>\n",
       "    </tr>\n",
       "  </thead>\n",
       "  <tbody>\n",
       "    <tr>\n",
       "      <th>Original</th>\n",
       "      <td>1.038000e-01</td>\n",
       "      <td>0.078000</td>\n",
       "      <td>0.765300</td>\n",
       "      <td>0.516100</td>\n",
       "    </tr>\n",
       "    <tr>\n",
       "      <th>Mean</th>\n",
       "      <td>2.245919e-02</td>\n",
       "      <td>0.046318</td>\n",
       "      <td>0.572067</td>\n",
       "      <td>0.328233</td>\n",
       "    </tr>\n",
       "    <tr>\n",
       "      <th>Std</th>\n",
       "      <td>1.000000e-20</td>\n",
       "      <td>0.000168</td>\n",
       "      <td>0.000695</td>\n",
       "      <td>0.000538</td>\n",
       "    </tr>\n",
       "    <tr>\n",
       "      <th>Z-score</th>\n",
       "      <td>8.134081e+18</td>\n",
       "      <td>188.914524</td>\n",
       "      <td>277.966302</td>\n",
       "      <td>349.054848</td>\n",
       "    </tr>\n",
       "  </tbody>\n",
       "</table>\n",
       "</div>"
      ],
      "text/plain": [
       "              P(l_rec)    P(E_rec)     B_nodes     B_edges\n",
       "Original  1.038000e-01    0.078000    0.765300    0.516100\n",
       "Mean      2.245919e-02    0.046318    0.572067    0.328233\n",
       "Std       1.000000e-20    0.000168    0.000695    0.000538\n",
       "Z-score   8.134081e+18  188.914524  277.966302  349.054848"
      ]
     },
     "execution_count": 6,
     "metadata": {},
     "output_type": "execute_result"
    }
   ],
   "source": [
    "df = pd.read_csv(\"4. Shuffle_timestamps_at_nodes_twitter_mentions.txt\")\n",
    "method = '4 Shuffle timestamps for each node ' + str(len(df)) +' data points'\n",
    "measures = [\"P(l_rec)\",\"P(E_rec)\",\"B_nodes\",\"B_edges\"]\n",
    "means = {}\n",
    "stds = {}\n",
    "z_scores = {}\n",
    "for measure in measures:\n",
    "    measure_column = df[measure]\n",
    "    means[measure] = np.mean(measure_column)\n",
    "    stds[measure] = np.std(measure_column) +  10**(-20)\n",
    "    z_scores[measure] =(original_network[measure] - np.mean(measure_column))/(np.std(measure_column)+  10**(-20))\n",
    "    \n",
    "original_df = pd.DataFrame(original_network,index=['Original'])\n",
    "mean_df = pd.DataFrame(means,index=['Mean'])\n",
    "std_df  = pd.DataFrame(stds,index=['Std'])\n",
    "z_score_df =  pd.DataFrame(z_scores,index=['Z-score'])\n",
    "\n",
    "print(method)\n",
    "results = original_df.append(mean_df)\n",
    "results = results.append(std_df)\n",
    "results = results.append(z_score_df)\n",
    "results"
   ]
  },
  {
   "cell_type": "markdown",
   "id": "15b575d9-8b5e-43a3-a553-e2f3b6a5e6ad",
   "metadata": {},
   "source": [
    "# 5 Rewire links and shuffle timestamps for each node "
   ]
  },
  {
   "cell_type": "code",
   "execution_count": null,
   "id": "a66d476b-cf63-4442-9299-393b131605d1",
   "metadata": {},
   "outputs": [],
   "source": [
    "df = pd.read_csv(\"5. Shuffle_timestamps_edgelist_twitter_mentions.txt\")\n",
    "method = '5 Rewire links and shuffle timestamps for each node  ' + str(len(df)) +' data points'\n",
    "measures = [\"P(l_rec)\",\"P(E_rec)\",\"B_nodes\",\"B_edges\"]\n",
    "means = {}\n",
    "stds = {}\n",
    "z_scores = {}\n",
    "for measure in measures:\n",
    "    measure_column = df[measure]\n",
    "    means[measure] = np.mean(measure_column)\n",
    "    stds[measure] = np.std(measure_column)  +  10**(-20)\n",
    "    z_scores[measure] =(original_network[measure] - np.mean(measure_column))/(np.std(measure_column) +  10**(-20))\n",
    "    \n",
    "original_df = pd.DataFrame(original_network,index=['Original'])\n",
    "mean_df = pd.DataFrame(means,index=['Mean'])\n",
    "std_df  = pd.DataFrame(stds,index=['Std'])\n",
    "z_score_df =  pd.DataFrame(z_scores,index=['Z-score'])\n",
    "\n",
    "results = original_df.append(mean_df)\n",
    "results = results.append(std_df)\n",
    "results = results.append(z_score_df)\n",
    "print(method)\n",
    "results"
   ]
  },
  {
   "cell_type": "code",
   "execution_count": 2,
   "id": "a7707f0f-56c1-4c4d-96a4-96d5bde2fe4e",
   "metadata": {},
   "outputs": [],
   "source": [
    "from graph_tool.all import *"
   ]
  },
  {
   "cell_type": "markdown",
   "id": "9d0b2de7-7245-4209-9b91-110b1735aad4",
   "metadata": {},
   "source": [
    "# Testing Sandeeps function"
   ]
  },
  {
   "cell_type": "code",
   "execution_count": 1,
   "id": "b2b54ba5-e88e-49a7-85a5-b33c2785d068",
   "metadata": {},
   "outputs": [],
   "source": [
    "from Shuffling_functions import *\n",
    "from functions_reci_bursty import *\n",
    "import pandas as pd\n"
   ]
  },
  {
   "cell_type": "code",
   "execution_count": 25,
   "id": "f1b1048a-8468-4ec7-ab12-1d6909368ed2",
   "metadata": {},
   "outputs": [
    {
     "data": {
      "text/html": [
       "<div>\n",
       "<style scoped>\n",
       "    .dataframe tbody tr th:only-of-type {\n",
       "        vertical-align: middle;\n",
       "    }\n",
       "\n",
       "    .dataframe tbody tr th {\n",
       "        vertical-align: top;\n",
       "    }\n",
       "\n",
       "    .dataframe thead th {\n",
       "        text-align: right;\n",
       "    }\n",
       "</style>\n",
       "<table border=\"1\" class=\"dataframe\">\n",
       "  <thead>\n",
       "    <tr style=\"text-align: right;\">\n",
       "      <th></th>\n",
       "      <th>from</th>\n",
       "      <th>to</th>\n",
       "      <th>t_second</th>\n",
       "    </tr>\n",
       "  </thead>\n",
       "  <tbody>\n",
       "    <tr>\n",
       "      <th>0</th>\n",
       "      <td>0</td>\n",
       "      <td>362</td>\n",
       "      <td>215795</td>\n",
       "    </tr>\n",
       "    <tr>\n",
       "      <th>1</th>\n",
       "      <td>0</td>\n",
       "      <td>158</td>\n",
       "      <td>1609163</td>\n",
       "    </tr>\n",
       "    <tr>\n",
       "      <th>2</th>\n",
       "      <td>0</td>\n",
       "      <td>158</td>\n",
       "      <td>1611838</td>\n",
       "    </tr>\n",
       "    <tr>\n",
       "      <th>3</th>\n",
       "      <td>1</td>\n",
       "      <td>260</td>\n",
       "      <td>1095056</td>\n",
       "    </tr>\n",
       "    <tr>\n",
       "      <th>4</th>\n",
       "      <td>1</td>\n",
       "      <td>35</td>\n",
       "      <td>1113604</td>\n",
       "    </tr>\n",
       "    <tr>\n",
       "      <th>...</th>\n",
       "      <td>...</td>\n",
       "      <td>...</td>\n",
       "      <td>...</td>\n",
       "    </tr>\n",
       "    <tr>\n",
       "      <th>3595</th>\n",
       "      <td>534</td>\n",
       "      <td>173</td>\n",
       "      <td>389119</td>\n",
       "    </tr>\n",
       "    <tr>\n",
       "      <th>3596</th>\n",
       "      <td>534</td>\n",
       "      <td>345</td>\n",
       "      <td>607587</td>\n",
       "    </tr>\n",
       "    <tr>\n",
       "      <th>3597</th>\n",
       "      <td>534</td>\n",
       "      <td>345</td>\n",
       "      <td>607643</td>\n",
       "    </tr>\n",
       "    <tr>\n",
       "      <th>3598</th>\n",
       "      <td>535</td>\n",
       "      <td>271</td>\n",
       "      <td>1512428</td>\n",
       "    </tr>\n",
       "    <tr>\n",
       "      <th>3599</th>\n",
       "      <td>535</td>\n",
       "      <td>144</td>\n",
       "      <td>1790851</td>\n",
       "    </tr>\n",
       "  </tbody>\n",
       "</table>\n",
       "<p>3600 rows × 3 columns</p>\n",
       "</div>"
      ],
      "text/plain": [
       "      from   to  t_second\n",
       "0        0  362    215795\n",
       "1        0  158   1609163\n",
       "2        0  158   1611838\n",
       "3        1  260   1095056\n",
       "4        1   35   1113604\n",
       "...    ...  ...       ...\n",
       "3595   534  173    389119\n",
       "3596   534  345    607587\n",
       "3597   534  345    607643\n",
       "3598   535  271   1512428\n",
       "3599   535  144   1790851\n",
       "\n",
       "[3600 rows x 3 columns]"
      ]
     },
     "execution_count": 25,
     "metadata": {},
     "output_type": "execute_result"
    }
   ],
   "source": [
    "df_edges_calls"
   ]
  },
  {
   "cell_type": "code",
   "execution_count": 8,
   "id": "f846aee9-fb26-420b-ba80-abba1eafb530",
   "metadata": {},
   "outputs": [],
   "source": [
    "df_edges_email = pd.read_table(\n",
    "    'email-Eu-core-temporal.txt',header=None,sep=\" \")\n",
    "df_edges_email.columns = ['from', 'to', 't_second']\n",
    "# print(df_edges_email)\n",
    "\n",
    "df_edges_college = pd.read_table(\n",
    "   'CollegeMsg.txt',header=None,sep=\" \")\n",
    "df_edges_college.columns = ['from', 'to', 't_second']\n",
    "# print(df_edges_email)\n",
    "\n",
    "with open('calls_ijt.pickle', 'rb') as handle:\n",
    "    data = pickle.load(handle)\n",
    "df_edges_calls = pd.DataFrame(data, columns = ['from', 'to', 't_second'])\n",
    "\n",
    "\n",
    "with open('sms_ijt.pickle', 'rb') as handle:\n",
    "    data = pickle.load(handle)\n",
    "df_edges_sms = pd.DataFrame(data, columns = ['from', 'to', 't_second'])\n",
    "\n",
    "df_edges_mentions= pd.read_pickle('df_edges_mentions.pkl')\n",
    "df_edges_retw= pd.read_pickle('df_edges_retw.pkl')\n",
    "df_edges_reply= pd.read_pickle('df_edges_reply.pkl')"
   ]
  },
  {
   "cell_type": "code",
   "execution_count": 10,
   "id": "888c2266-94dc-4f7d-83ff-ba6d08b8fea6",
   "metadata": {},
   "outputs": [
    {
     "name": "stdout",
     "output_type": "stream",
     "text": [
      "  edges n: 11324/11324"
     ]
    },
    {
     "data": {
      "text/html": [
       "<div>\n",
       "<style scoped>\n",
       "    .dataframe tbody tr th:only-of-type {\n",
       "        vertical-align: middle;\n",
       "    }\n",
       "\n",
       "    .dataframe tbody tr th {\n",
       "        vertical-align: top;\n",
       "    }\n",
       "\n",
       "    .dataframe thead th {\n",
       "        text-align: right;\n",
       "    }\n",
       "</style>\n",
       "<table border=\"1\" class=\"dataframe\">\n",
       "  <thead>\n",
       "    <tr style=\"text-align: right;\">\n",
       "      <th></th>\n",
       "      <th>P(l_rec)</th>\n",
       "      <th>P(E_rec)</th>\n",
       "      <th>B_nodes</th>\n",
       "      <th>B_edges</th>\n",
       "    </tr>\n",
       "    <tr>\n",
       "      <th>Method</th>\n",
       "      <th></th>\n",
       "      <th></th>\n",
       "      <th></th>\n",
       "      <th></th>\n",
       "    </tr>\n",
       "  </thead>\n",
       "  <tbody>\n",
       "    <tr>\n",
       "      <th>E-mail data</th>\n",
       "      <td>0.764512</td>\n",
       "      <td>0.466793</td>\n",
       "      <td>0.354884</td>\n",
       "      <td>-0.122634</td>\n",
       "    </tr>\n",
       "  </tbody>\n",
       "</table>\n",
       "</div>"
      ],
      "text/plain": [
       "             P(l_rec)  P(E_rec)   B_nodes   B_edges\n",
       "Method                                             \n",
       "E-mail data  0.764512  0.466793  0.354884 -0.122634"
      ]
     },
     "execution_count": 10,
     "metadata": {},
     "output_type": "execute_result"
    }
   ],
   "source": [
    "measures(df_edges_email,'E-mail data')"
   ]
  },
  {
   "cell_type": "code",
   "execution_count": 11,
   "id": "7fe9b93e-a275-487d-9657-6cfcf9a9d4a1",
   "metadata": {},
   "outputs": [
    {
     "name": "stdout",
     "output_type": "stream",
     "text": [
      "  edges n: 13838/13838"
     ]
    },
    {
     "data": {
      "text/html": [
       "<div>\n",
       "<style scoped>\n",
       "    .dataframe tbody tr th:only-of-type {\n",
       "        vertical-align: middle;\n",
       "    }\n",
       "\n",
       "    .dataframe tbody tr th {\n",
       "        vertical-align: top;\n",
       "    }\n",
       "\n",
       "    .dataframe thead th {\n",
       "        text-align: right;\n",
       "    }\n",
       "</style>\n",
       "<table border=\"1\" class=\"dataframe\">\n",
       "  <thead>\n",
       "    <tr style=\"text-align: right;\">\n",
       "      <th></th>\n",
       "      <th>P(l_rec)</th>\n",
       "      <th>P(E_rec)</th>\n",
       "      <th>B_nodes</th>\n",
       "      <th>B_edges</th>\n",
       "    </tr>\n",
       "    <tr>\n",
       "      <th>Method</th>\n",
       "      <th></th>\n",
       "      <th></th>\n",
       "      <th></th>\n",
       "      <th></th>\n",
       "    </tr>\n",
       "  </thead>\n",
       "  <tbody>\n",
       "    <tr>\n",
       "      <th>College message data</th>\n",
       "      <td>0.765619</td>\n",
       "      <td>0.654477</td>\n",
       "      <td>0.246205</td>\n",
       "      <td>-0.306779</td>\n",
       "    </tr>\n",
       "  </tbody>\n",
       "</table>\n",
       "</div>"
      ],
      "text/plain": [
       "                      P(l_rec)  P(E_rec)   B_nodes   B_edges\n",
       "Method                                                      \n",
       "College message data  0.765619  0.654477  0.246205 -0.306779"
      ]
     },
     "execution_count": 11,
     "metadata": {},
     "output_type": "execute_result"
    }
   ],
   "source": [
    "measures(df_edges_college,'College message data')"
   ]
  },
  {
   "cell_type": "code",
   "execution_count": 12,
   "id": "240a3f8b-e908-498a-b193-fe04f9eb094d",
   "metadata": {},
   "outputs": [
    {
     "name": "stdout",
     "output_type": "stream",
     "text": [
      "  edges n: 621/621"
     ]
    },
    {
     "data": {
      "text/html": [
       "<div>\n",
       "<style scoped>\n",
       "    .dataframe tbody tr th:only-of-type {\n",
       "        vertical-align: middle;\n",
       "    }\n",
       "\n",
       "    .dataframe tbody tr th {\n",
       "        vertical-align: top;\n",
       "    }\n",
       "\n",
       "    .dataframe thead th {\n",
       "        text-align: right;\n",
       "    }\n",
       "</style>\n",
       "<table border=\"1\" class=\"dataframe\">\n",
       "  <thead>\n",
       "    <tr style=\"text-align: right;\">\n",
       "      <th></th>\n",
       "      <th>P(l_rec)</th>\n",
       "      <th>P(E_rec)</th>\n",
       "      <th>B_nodes</th>\n",
       "      <th>B_edges</th>\n",
       "    </tr>\n",
       "    <tr>\n",
       "      <th>Method</th>\n",
       "      <th></th>\n",
       "      <th></th>\n",
       "      <th></th>\n",
       "      <th></th>\n",
       "    </tr>\n",
       "  </thead>\n",
       "  <tbody>\n",
       "    <tr>\n",
       "      <th>Calls data</th>\n",
       "      <td>0.830137</td>\n",
       "      <td>0.471869</td>\n",
       "      <td>0.108694</td>\n",
       "      <td>-0.111781</td>\n",
       "    </tr>\n",
       "  </tbody>\n",
       "</table>\n",
       "</div>"
      ],
      "text/plain": [
       "            P(l_rec)  P(E_rec)   B_nodes   B_edges\n",
       "Method                                            \n",
       "Calls data  0.830137  0.471869  0.108694 -0.111781"
      ]
     },
     "execution_count": 12,
     "metadata": {},
     "output_type": "execute_result"
    }
   ],
   "source": [
    "measures(df_edges_calls,'Calls data')"
   ]
  },
  {
   "cell_type": "code",
   "execution_count": 13,
   "id": "80ba5b2b-394f-4855-b5d7-1ae0806dc7a3",
   "metadata": {},
   "outputs": [
    {
     "name": "stdout",
     "output_type": "stream",
     "text": [
      "  edges n: 697/697"
     ]
    },
    {
     "data": {
      "text/html": [
       "<div>\n",
       "<style scoped>\n",
       "    .dataframe tbody tr th:only-of-type {\n",
       "        vertical-align: middle;\n",
       "    }\n",
       "\n",
       "    .dataframe tbody tr th {\n",
       "        vertical-align: top;\n",
       "    }\n",
       "\n",
       "    .dataframe thead th {\n",
       "        text-align: right;\n",
       "    }\n",
       "</style>\n",
       "<table border=\"1\" class=\"dataframe\">\n",
       "  <thead>\n",
       "    <tr style=\"text-align: right;\">\n",
       "      <th></th>\n",
       "      <th>P(l_rec)</th>\n",
       "      <th>P(E_rec)</th>\n",
       "      <th>B_nodes</th>\n",
       "      <th>B_edges</th>\n",
       "    </tr>\n",
       "    <tr>\n",
       "      <th>Method</th>\n",
       "      <th></th>\n",
       "      <th></th>\n",
       "      <th></th>\n",
       "      <th></th>\n",
       "    </tr>\n",
       "  </thead>\n",
       "  <tbody>\n",
       "    <tr>\n",
       "      <th>Sms data</th>\n",
       "      <td>0.966507</td>\n",
       "      <td>0.746703</td>\n",
       "      <td>0.381796</td>\n",
       "      <td>0.184447</td>\n",
       "    </tr>\n",
       "  </tbody>\n",
       "</table>\n",
       "</div>"
      ],
      "text/plain": [
       "          P(l_rec)  P(E_rec)   B_nodes   B_edges\n",
       "Method                                          \n",
       "Sms data  0.966507  0.746703  0.381796  0.184447"
      ]
     },
     "execution_count": 13,
     "metadata": {},
     "output_type": "execute_result"
    }
   ],
   "source": [
    "measures(df_edges_sms,'Sms data')"
   ]
  },
  {
   "cell_type": "code",
   "execution_count": null,
   "id": "a7d66668-9d65-4ab4-98cd-38b77522b116",
   "metadata": {},
   "outputs": [
    {
     "name": "stdout",
     "output_type": "stream",
     "text": [
      "  edges n: 20277/284338"
     ]
    }
   ],
   "source": [
    "measures(df_edges_mentions,'Twitter Mentions data')"
   ]
  },
  {
   "cell_type": "code",
   "execution_count": null,
   "id": "a6cf00f9-5381-41ca-a2a1-43815b216c7f",
   "metadata": {},
   "outputs": [],
   "source": [
    "measures(df_edges_retw,'Twitter Retweet data')"
   ]
  },
  {
   "cell_type": "code",
   "execution_count": null,
   "id": "ce94d224-60ce-4e63-b34a-377fe53a0bf9",
   "metadata": {},
   "outputs": [],
   "source": [
    "measures(df_edges_reply,'Twitter Reply data')"
   ]
  }
 ],
 "metadata": {
  "kernelspec": {
   "display_name": "Python 3 (ipykernel)",
   "language": "python",
   "name": "python3"
  },
  "language_info": {
   "codemirror_mode": {
    "name": "ipython",
    "version": 3
   },
   "file_extension": ".py",
   "mimetype": "text/x-python",
   "name": "python",
   "nbconvert_exporter": "python",
   "pygments_lexer": "ipython3",
   "version": "3.9.7"
  }
 },
 "nbformat": 4,
 "nbformat_minor": 5
}
